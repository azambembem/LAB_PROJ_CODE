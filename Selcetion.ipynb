{
 "cells": [
  {
   "cell_type": "code",
   "execution_count": 1,
   "metadata": {},
   "outputs": [],
   "source": [
    "import pandas as pd\n",
    "import numpy as np\n",
    "import random\n",
    "from sklearn.model_selection import train_test_split, StratifiedKFold\n",
    "from sklearn.preprocessing import StandardScaler\n",
    "from sklearn.ensemble import RandomForestClassifier\n",
    "from sklearn.tree import DecisionTreeClassifier\n",
    "from sklearn.metrics import accuracy_score, f1_score, roc_auc_score, precision_recall_fscore_support\n",
    "from sklearn.preprocessing import label_binarize\n",
    "from multiprocessing import Pool"
   ]
  },
  {
   "cell_type": "code",
   "execution_count": 2,
   "metadata": {},
   "outputs": [],
   "source": [
    "# 데이터 불러오기\n",
    "data = pd.read_csv('azdigar nav sartirovka+0 delete.csv')"
   ]
  },
  {
   "cell_type": "code",
   "execution_count": 4,
   "metadata": {},
   "outputs": [],
   "source": [
    "# 분석할 열들\n",
    "columns = [\n",
    "    'w08chronic_a', 'w08chronic_b', 'w08chronic_c',\n",
    "    'w08chronic_d', 'w08chronic_e', 'w08chronic_f',\n",
    "    'w08chronic_g', 'w08chronic_h', 'w08chronic_i',\n",
    "    'w08chronic_k', 'w08chronic_l', 'w08chronic_m'\n",
    "] "
   ]
  },
  {
   "cell_type": "code",
   "execution_count": 5,
   "metadata": {},
   "outputs": [],
   "source": [
    "# 데이터 클리닝\n",
    "cleaned_data = data[data['w08chronic_m'] != 3] \n",
    "X = cleaned_data.drop(columns=columns)\n",
    "y_all = cleaned_data[columns]"
   ]
  },
  {
   "cell_type": "code",
   "execution_count": 7,
   "metadata": {},
   "outputs": [],
   "source": [
    "# 데이터 스케일링\n",
    "scaler = StandardScaler()\n",
    "X_scaled = scaler.fit_transform(X)\n"
   ]
  },
  {
   "cell_type": "code",
   "execution_count": 8,
   "metadata": {},
   "outputs": [],
   "source": [
    "# 모델 정의\n",
    "models = {\n",
    "    'Random Forest': RandomForestClassifier(random_state=42),\n",
    "    'Decision Tree': DecisionTreeClassifier(random_state=42),\n",
    "}\n"
   ]
  },
  {
   "cell_type": "code",
   "execution_count": 10,
   "metadata": {},
   "outputs": [
    {
     "name": "stdout",
     "output_type": "stream",
     "text": [
      "\n",
      "[w08chronic_a] 열을 예측합니다:\n",
      "==================================\n",
      "\n",
      "[Random Forest] 모델 평가:\n",
      "--------------------------\n",
      "Random Forest 모델에서 오류 발생: y should be a 1d array, got an array of shape (906, 2) instead.\n",
      "\n",
      "[Decision Tree] 모델 평가:\n",
      "--------------------------\n",
      "Decision Tree 모델에서 오류 발생: y should be a 1d array, got an array of shape (906, 2) instead.\n",
      "\n",
      "[w08chronic_b] 열을 예측합니다:\n",
      "==================================\n",
      "\n",
      "[Random Forest] 모델 평가:\n",
      "--------------------------\n",
      "Random Forest 모델에서 오류 발생: y should be a 1d array, got an array of shape (906, 2) instead.\n",
      "\n",
      "[Decision Tree] 모델 평가:\n",
      "--------------------------\n",
      "Decision Tree 모델에서 오류 발생: y should be a 1d array, got an array of shape (906, 2) instead.\n",
      "\n",
      "[w08chronic_c] 열을 예측합니다:\n",
      "==================================\n",
      "\n",
      "[Random Forest] 모델 평가:\n",
      "--------------------------\n"
     ]
    },
    {
     "name": "stderr",
     "output_type": "stream",
     "text": [
      "c:\\Users\\azamj\\anaconda3\\lib\\site-packages\\sklearn\\metrics\\_classification.py:1509: UndefinedMetricWarning: Precision is ill-defined and being set to 0.0 in labels with no predicted samples. Use `zero_division` parameter to control this behavior.\n",
      "  _warn_prf(average, modifier, f\"{metric.capitalize()} is\", len(result))\n"
     ]
    },
    {
     "name": "stdout",
     "output_type": "stream",
     "text": [
      "Random Forest 모델에서 오류 발생: y should be a 1d array, got an array of shape (906, 2) instead.\n",
      "\n",
      "[Decision Tree] 모델 평가:\n",
      "--------------------------\n",
      "Decision Tree 모델에서 오류 발생: y should be a 1d array, got an array of shape (906, 2) instead.\n",
      "\n",
      "[w08chronic_d] 열을 예측합니다:\n",
      "==================================\n",
      "\n",
      "[Random Forest] 모델 평가:\n",
      "--------------------------\n"
     ]
    },
    {
     "name": "stderr",
     "output_type": "stream",
     "text": [
      "c:\\Users\\azamj\\anaconda3\\lib\\site-packages\\sklearn\\metrics\\_classification.py:1509: UndefinedMetricWarning: Precision is ill-defined and being set to 0.0 in labels with no predicted samples. Use `zero_division` parameter to control this behavior.\n",
      "  _warn_prf(average, modifier, f\"{metric.capitalize()} is\", len(result))\n"
     ]
    },
    {
     "name": "stdout",
     "output_type": "stream",
     "text": [
      "Random Forest 모델에서 오류 발생: y should be a 1d array, got an array of shape (906, 2) instead.\n",
      "\n",
      "[Decision Tree] 모델 평가:\n",
      "--------------------------\n",
      "Decision Tree 모델에서 오류 발생: y should be a 1d array, got an array of shape (906, 2) instead.\n",
      "\n",
      "[w08chronic_e] 열을 예측합니다:\n",
      "==================================\n",
      "\n",
      "[Random Forest] 모델 평가:\n",
      "--------------------------\n"
     ]
    },
    {
     "name": "stderr",
     "output_type": "stream",
     "text": [
      "c:\\Users\\azamj\\anaconda3\\lib\\site-packages\\sklearn\\metrics\\_classification.py:1509: UndefinedMetricWarning: Precision is ill-defined and being set to 0.0 in labels with no predicted samples. Use `zero_division` parameter to control this behavior.\n",
      "  _warn_prf(average, modifier, f\"{metric.capitalize()} is\", len(result))\n"
     ]
    },
    {
     "name": "stdout",
     "output_type": "stream",
     "text": [
      "Random Forest 모델에서 오류 발생: y should be a 1d array, got an array of shape (906, 2) instead.\n",
      "\n",
      "[Decision Tree] 모델 평가:\n",
      "--------------------------\n",
      "Decision Tree 모델에서 오류 발생: y should be a 1d array, got an array of shape (906, 2) instead.\n",
      "\n",
      "[w08chronic_f] 열을 예측합니다:\n",
      "==================================\n",
      "\n",
      "[Random Forest] 모델 평가:\n",
      "--------------------------\n",
      "Random Forest 모델에서 오류 발생: y should be a 1d array, got an array of shape (906, 2) instead.\n",
      "\n",
      "[Decision Tree] 모델 평가:\n",
      "--------------------------\n",
      "Decision Tree 모델에서 오류 발생: y should be a 1d array, got an array of shape (906, 2) instead.\n",
      "\n",
      "[w08chronic_g] 열을 예측합니다:\n",
      "==================================\n",
      "\n",
      "[Random Forest] 모델 평가:\n",
      "--------------------------\n",
      "Random Forest 모델에서 오류 발생: y should be a 1d array, got an array of shape (906, 2) instead.\n",
      "\n",
      "[Decision Tree] 모델 평가:\n",
      "--------------------------\n",
      "Decision Tree 모델에서 오류 발생: y should be a 1d array, got an array of shape (906, 2) instead.\n",
      "\n",
      "[w08chronic_h] 열을 예측합니다:\n",
      "==================================\n",
      "\n",
      "[Random Forest] 모델 평가:\n",
      "--------------------------\n"
     ]
    },
    {
     "name": "stderr",
     "output_type": "stream",
     "text": [
      "c:\\Users\\azamj\\anaconda3\\lib\\site-packages\\sklearn\\metrics\\_classification.py:1509: UndefinedMetricWarning: Precision is ill-defined and being set to 0.0 in labels with no predicted samples. Use `zero_division` parameter to control this behavior.\n",
      "  _warn_prf(average, modifier, f\"{metric.capitalize()} is\", len(result))\n"
     ]
    },
    {
     "name": "stdout",
     "output_type": "stream",
     "text": [
      "Random Forest 모델에서 오류 발생: y should be a 1d array, got an array of shape (906, 2) instead.\n",
      "\n",
      "[Decision Tree] 모델 평가:\n",
      "--------------------------\n",
      "Decision Tree 모델에서 오류 발생: y should be a 1d array, got an array of shape (906, 2) instead.\n",
      "\n",
      "[w08chronic_i] 열을 예측합니다:\n",
      "==================================\n",
      "\n",
      "[Random Forest] 모델 평가:\n",
      "--------------------------\n",
      "Random Forest 모델에서 오류 발생: y should be a 1d array, got an array of shape (906, 2) instead.\n",
      "\n",
      "[Decision Tree] 모델 평가:\n",
      "--------------------------\n",
      "Decision Tree 모델에서 오류 발생: y should be a 1d array, got an array of shape (906, 2) instead.\n",
      "\n",
      "[w08chronic_k] 열을 예측합니다:\n",
      "==================================\n",
      "\n",
      "[Random Forest] 모델 평가:\n",
      "--------------------------\n"
     ]
    },
    {
     "name": "stderr",
     "output_type": "stream",
     "text": [
      "c:\\Users\\azamj\\anaconda3\\lib\\site-packages\\sklearn\\metrics\\_classification.py:1509: UndefinedMetricWarning: Precision is ill-defined and being set to 0.0 in labels with no predicted samples. Use `zero_division` parameter to control this behavior.\n",
      "  _warn_prf(average, modifier, f\"{metric.capitalize()} is\", len(result))\n"
     ]
    },
    {
     "name": "stdout",
     "output_type": "stream",
     "text": [
      "Random Forest 모델에서 오류 발생: y should be a 1d array, got an array of shape (906, 2) instead.\n",
      "\n",
      "[Decision Tree] 모델 평가:\n",
      "--------------------------\n",
      "Decision Tree 모델에서 오류 발생: y should be a 1d array, got an array of shape (906, 2) instead.\n",
      "\n",
      "[w08chronic_l] 열을 예측합니다:\n",
      "==================================\n",
      "\n",
      "[Random Forest] 모델 평가:\n",
      "--------------------------\n"
     ]
    },
    {
     "name": "stderr",
     "output_type": "stream",
     "text": [
      "c:\\Users\\azamj\\anaconda3\\lib\\site-packages\\sklearn\\metrics\\_classification.py:1509: UndefinedMetricWarning: Precision is ill-defined and being set to 0.0 in labels with no predicted samples. Use `zero_division` parameter to control this behavior.\n",
      "  _warn_prf(average, modifier, f\"{metric.capitalize()} is\", len(result))\n"
     ]
    },
    {
     "name": "stdout",
     "output_type": "stream",
     "text": [
      "Random Forest 모델에서 오류 발생: y should be a 1d array, got an array of shape (906, 2) instead.\n",
      "\n",
      "[Decision Tree] 모델 평가:\n",
      "--------------------------\n",
      "Decision Tree 모델에서 오류 발생: y should be a 1d array, got an array of shape (906, 2) instead.\n",
      "\n",
      "[w08chronic_m] 열을 예측합니다:\n",
      "==================================\n",
      "\n",
      "[Random Forest] 모델 평가:\n",
      "--------------------------\n",
      "Random Forest 모델에서 오류 발생: y should be a 1d array, got an array of shape (906, 2) instead.\n",
      "\n",
      "[Decision Tree] 모델 평가:\n",
      "--------------------------\n",
      "Decision Tree 모델에서 오류 발생: y should be a 1d array, got an array of shape (906, 2) instead.\n",
      "\n",
      "전체 모델 평가 결과:\n",
      "Empty DataFrame\n",
      "Columns: [Target, Model, Precision, Recall, F1-Score, Accuracy, Micro F1, Macro F1, Weighted F1, AUC]\n",
      "Index: []\n"
     ]
    }
   ],
   "source": [
    "# 결과를 저장할 빈 데이터프레임 생성\n",
    "result_table = pd.DataFrame(columns=[\n",
    "    'Target', 'Model', 'Precision', 'Recall', 'F1-Score', \n",
    "    'Accuracy', 'Micro F1', 'Macro F1', 'Weighted F1', 'AUC'\n",
    "])  \n",
    "\n",
    "def evaluate_individual(individual, model, X_train, y_train, X_test, y_test):\n",
    "    selected_features = [i for i, bit in enumerate(individual) if bit]\n",
    "    if len(selected_features) == 0:\n",
    "        return 0  # 선택된 피처가 없을 경우 적합도 0\n",
    "\n",
    "    X_train_selected = X_train[:, selected_features]\n",
    "    X_test_selected = X_test[:, selected_features]\n",
    "\n",
    "    model.fit(X_train_selected, y_train)\n",
    "    y_pred = model.predict(X_test_selected)\n",
    "\n",
    "    return f1_score(y_test, y_pred, average='macro')\n",
    "\n",
    "def run_genetic_algorithm(model, X_train, y_train, X_test, y_test):\n",
    "    population_size = 5  # 줄이기\n",
    "    num_generations = 5   # 줄이기\n",
    "    num_features = X_train.shape[1]\n",
    "\n",
    "    population = [np.random.randint(0, 2, num_features) for _ in range(population_size)]\n",
    "\n",
    "    for generation in range(num_generations):\n",
    "        fitness_scores = [evaluate_individual(individual, model, X_train, y_train, X_test, y_test) for individual in population]\n",
    "\n",
    "        best_index = np.argmax(fitness_scores)\n",
    "        best_individual = population[best_index]\n",
    "\n",
    "        # 다음 세대 생성 로직 추가\n",
    "        # ...\n",
    "\n",
    "    return best_individual\n",
    "\n",
    "\n",
    "# 각 타겟 열에 대해 평가\n",
    "for target_column in columns:\n",
    "    print(f'\\n[{target_column}] 열을 예측합니다:')\n",
    "    print('==================================')\n",
    "\n",
    "    # y를 1D 배열로 변환\n",
    "    y = cleaned_data[target_column].values.ravel()  # 1D 배열로 변환\n",
    "\n",
    "    # 교차 검증을 위한 Stratified K-Fold 사용\n",
    "    skf = StratifiedKFold(n_splits=5, shuffle=True, random_state=42)\n",
    "\n",
    "    for model_name, model in models.items():\n",
    "        print(f'\\n[{model_name}] 모델 평가:')\n",
    "        print('--------------------------')\n",
    "\n",
    "        try:\n",
    "            # 유전 알고리즘을 사용한 피처 선택\n",
    "            best_individual = run_genetic_algorithm(model, X_scaled, y, X_scaled, y)\n",
    "            selected_features = [i for i, bit in enumerate(best_individual) if bit]\n",
    "\n",
    "            if len(selected_features) == 0:\n",
    "                print(f'선택된 피처가 없습니다. {target_column} 열에 대한 {model_name} 모델 평가를 건너뜁니다.')\n",
    "                continue\n",
    "\n",
    "            # 교차 검증을 통한 평가\n",
    "            macro_f1_scores = []\n",
    "            auc_scores = []\n",
    "\n",
    "            for train_index, test_index in skf.split(X_scaled, y):\n",
    "                X_train, X_test = X_scaled[train_index][:, selected_features], X_scaled[test_index][:, selected_features]\n",
    "                y_train, y_test = y[train_index], y[test_index]\n",
    "\n",
    "                model.fit(X_train, y_train)\n",
    "                y_pred = model.predict(X_test)\n",
    "\n",
    "                # AUC를 위한 확률 예측\n",
    "                y_pred_proba = model.predict_proba(X_test) if hasattr(model, \"predict_proba\") else None\n",
    "\n",
    "                # 메트릭 계산\n",
    "                precision, recall, f1, _ = precision_recall_fscore_support(y_test, y_pred, average='weighted')\n",
    "                accuracy = accuracy_score(y_test, y_pred)\n",
    "                micro_f1 = f1_score(y_test, y_pred, average='micro')\n",
    "                macro_f1 = f1_score(y_test, y_pred, average='macro')\n",
    "                weighted_f1 = f1_score(y_test, y_pred, average='weighted')\n",
    "\n",
    "                # AUC 계산\n",
    "                if y_pred_proba is not None:\n",
    "                    y_test_bin = label_binarize(y_test, classes=np.unique(y))\n",
    "                    auc = roc_auc_score(y_test_bin, y_pred_proba, multi_class=\"ovr\", average='weighted')\n",
    "                else:\n",
    "                    auc = np.nan\n",
    "\n",
    "                # 결과 추가\n",
    "                macro_f1_scores.append(macro_f1)\n",
    "                auc_scores.append(auc)\n",
    "\n",
    "            # 평균 점수 계산\n",
    "            average_macro_f1 = np.mean(macro_f1_scores)\n",
    "            average_auc = np.mean(auc_scores)\n",
    "\n",
    "            # 결과 저장\n",
    "            new_row = pd.DataFrame({\n",
    "                'Model': [model_name],\n",
    "                'Target': [target_column],\n",
    "                'Precision': [precision],\n",
    "                'Recall': [recall],\n",
    "                'F1-Score': [f1],\n",
    "                'Accuracy': [accuracy],\n",
    "                'Micro F1': [micro_f1],\n",
    "                'Macro F1': [average_macro_f1],\n",
    "                'Weighted F1': [weighted_f1],\n",
    "                'AUC': [average_auc]\n",
    "            })\n",
    "            result_table = pd.concat([result_table, new_row], ignore_index=True)\n",
    "\n",
    "        except Exception as e:\n",
    "            print(f\"{model_name} 모델에서 오류 발생: {e}\")\n",
    "\n",
    "# 결과 테이블 출력\n",
    "print(\"\\n전체 모델 평가 결과:\")\n",
    "print(result_table)\n"
   ]
  },
  {
   "cell_type": "code",
   "execution_count": null,
   "metadata": {},
   "outputs": [],
   "source": [
    "# 결과 테이블 출력\n",
    "print(\"\\n전체 모델 평가 결과:\")\n",
    "print(result_table)"
   ]
  }
 ],
 "metadata": {
  "kernelspec": {
   "display_name": "base",
   "language": "python",
   "name": "python3"
  },
  "language_info": {
   "codemirror_mode": {
    "name": "ipython",
    "version": 3
   },
   "file_extension": ".py",
   "mimetype": "text/x-python",
   "name": "python",
   "nbconvert_exporter": "python",
   "pygments_lexer": "ipython3",
   "version": "3.9.13"
  }
 },
 "nbformat": 4,
 "nbformat_minor": 2
}
