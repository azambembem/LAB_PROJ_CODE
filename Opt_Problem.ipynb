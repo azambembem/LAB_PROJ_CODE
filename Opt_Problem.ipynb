{
 "cells": [
  {
   "cell_type": "code",
   "execution_count": 24,
   "metadata": {},
   "outputs": [],
   "source": [
    "import pandas as pd\n",
    "import numpy as np\n",
    "import random\n",
    "from sklearn.model_selection import train_test_split\n",
    "from sklearn.preprocessing import StandardScaler\n",
    "from sklearn.ensemble import RandomForestClassifier\n",
    "from sklearn.tree import DecisionTreeClassifier\n",
    "from sklearn.svm import SVC\n",
    "from sklearn.neural_network import MLPClassifier\n",
    "from sklearn.metrics import accuracy_score, f1_score, roc_auc_score, precision_recall_fscore_support\n",
    "from sklearn.preprocessing import label_binarize\n",
    "from sklearn.feature_selection import RFE\n",
    "from sklearn.linear_model import LogisticRegression\n",
    "from deap import base, creator, tools, algorithms"
   ]
  },
  {
   "cell_type": "code",
   "execution_count": 25,
   "metadata": {},
   "outputs": [],
   "source": [
    "# 1. 데이터 불러오기\n",
    "data = pd.read_csv('azdigar nav sartirovka+0 delete.csv')"
   ]
  },
  {
   "cell_type": "code",
   "execution_count": 26,
   "metadata": {},
   "outputs": [],
   "source": [
    "# 분석할 열들\n",
    "columns = [\n",
    "    'w08chronic_a', 'w08chronic_b', 'w08chronic_c',\n",
    "    'w08chronic_d', 'w08chronic_e', 'w08chronic_f',\n",
    "    'w08chronic_g', 'w08chronic_h', 'w08chronic_i',\n",
    "    'w08chronic_k', 'w08chronic_l', 'w08chronic_m'\n",
    "]"
   ]
  },
  {
   "cell_type": "code",
   "execution_count": 27,
   "metadata": {},
   "outputs": [],
   "source": [
    "# 2. 데이터 클리닝 - 'w08chronic_m'에서 값이 3인 행 제거\n",
    "cleaned_data = data[data['w08chronic_m'] != 3]"
   ]
  },
  {
   "cell_type": "code",
   "execution_count": 28,
   "metadata": {},
   "outputs": [],
   "source": [
    "# 3. 피처 데이터 정의 (모든 chronic 컬럼 제외)\n",
    "X = cleaned_data.drop(columns=columns)\n",
    "y_all = cleaned_data[columns]"
   ]
  },
  {
   "cell_type": "code",
   "execution_count": 29,
   "metadata": {},
   "outputs": [],
   "source": [
    "# 4. 데이터 스케일링\n",
    "scaler = StandardScaler()\n",
    "X_scaled = scaler.fit_transform(X)"
   ]
  },
  {
   "cell_type": "code",
   "execution_count": 30,
   "metadata": {},
   "outputs": [],
   "source": [
    "# 5. 모델 정의\n",
    "models = {\n",
    "    'Random Forest': RandomForestClassifier(random_state=42),\n",
    "    'Decision Tree': DecisionTreeClassifier(random_state=42),\n",
    "    'SVM': SVC(probability=True, random_state=42),\n",
    "    'MLP': MLPClassifier(max_iter=2000, random_state=42)\n",
    "}\n"
   ]
  },
  {
   "cell_type": "code",
   "execution_count": 32,
   "metadata": {},
   "outputs": [],
   "source": [
    "# 6. 유전 알고리즘을 위한 설정\n",
    "creator.create(\"FitnessMax\", base.Fitness, weights=(1.0,))\n",
    "creator.create(\"Individual\", list, fitness=creator.FitnessMax)\n",
    "\n",
    "def evaluate(individual):\n",
    "    selected_features = [i for i, bit in enumerate(individual) if bit]\n",
    "    if len(selected_features) == 0:\n",
    "        return (0,)  # 피처가 선택되지 않은 경우\n",
    "\n",
    "    X_train_selected = X_train[:, selected_features]\n",
    "    X_test_selected = X_test[:, selected_features]\n",
    "\n",
    "    model = RandomForestClassifier(random_state=42)  # 여기에 평가할 모델을 지정할 수 있습니다.\n",
    "    model.fit(X_train_selected, y_train)\n",
    "    y_pred = model.predict(X_test_selected)\n",
    "\n",
    "    return (f1_score(y_test, y_pred, average='weighted'),)\n",
    "\n",
    "toolbox = base.Toolbox()\n",
    "toolbox.register(\"attr_bool\", random.randint, 0, 1)\n",
    "toolbox.register(\"individual\", tools.initRepeat, creator.Individual, toolbox.attr_bool, n=X_scaled.shape[1])\n",
    "toolbox.register(\"population\", tools.initRepeat, list, toolbox.individual)\n",
    "toolbox.register(\"evaluate\", evaluate)\n",
    "toolbox.register(\"mate\", tools.cxBlend, alpha=0.5)\n",
    "toolbox.register(\"mutate\", tools.mutFlipBit, indpb=0.1)\n",
    "toolbox.register(\"select\", tools.selTournament, tournsize=3)\n",
    "\n",
    "def run_ga(population_size=50, generations=10):\n",
    "    population = toolbox.population(n=population_size)\n",
    "    algorithms.eaSimple(population, toolbox, cxpb=0.5, mutpb=0.2, ngen=generations, verbose=True)\n",
    "    best_individual = tools.selBest(population, 1)[0]\n",
    "    return best_individual\n"
   ]
  },
  {
   "cell_type": "code",
   "execution_count": 33,
   "metadata": {},
   "outputs": [],
   "source": [
    "# 7. 결과 저장을 위한 빈 데이터프레임 생성\n",
    "result_table = pd.DataFrame(columns=['Target', 'Model', 'Precision', 'Recall', 'F1-Score', 'Accuracy', 'Micro F1', 'Macro F1', 'Weighted F1', 'AUC'])"
   ]
  },
  {
   "cell_type": "code",
   "execution_count": 34,
   "metadata": {},
   "outputs": [
    {
     "name": "stdout",
     "output_type": "stream",
     "text": [
      "\n",
      "[w08chronic_a] 열을 예측:\n",
      "==================================\n",
      "gen\tnevals\n",
      "0  \t50    \n",
      "1  \t32    \n",
      "2  \t36    \n",
      "3  \t25    \n",
      "4  \t28    \n",
      "5  \t30    \n",
      "6  \t26    \n",
      "7  \t27    \n",
      "8  \t25    \n",
      "9  \t27    \n",
      "10 \t26    \n",
      "\n",
      "[Random Forest] 모델 평가:\n",
      "--------------------------\n",
      "\n",
      "[Decision Tree] 모델 평가:\n",
      "--------------------------\n",
      "\n",
      "[SVM] 모델 평가:\n",
      "--------------------------\n",
      "\n",
      "[MLP] 모델 평가:\n",
      "--------------------------\n",
      "\n",
      "[w08chronic_b] 열을 예측:\n",
      "==================================\n",
      "gen\tnevals\n",
      "0  \t50    \n",
      "1  \t36    \n",
      "2  \t27    \n",
      "3  \t30    \n",
      "4  \t27    \n",
      "5  \t31    \n",
      "6  \t26    \n",
      "7  \t33    \n",
      "8  \t23    \n",
      "9  \t35    \n",
      "10 \t21    \n",
      "\n",
      "[Random Forest] 모델 평가:\n",
      "--------------------------\n",
      "\n",
      "[Decision Tree] 모델 평가:\n",
      "--------------------------\n",
      "\n",
      "[SVM] 모델 평가:\n",
      "--------------------------\n"
     ]
    },
    {
     "name": "stderr",
     "output_type": "stream",
     "text": [
      "c:\\Users\\azamj\\anaconda3\\lib\\site-packages\\sklearn\\metrics\\_classification.py:1509: UndefinedMetricWarning: Precision is ill-defined and being set to 0.0 in labels with no predicted samples. Use `zero_division` parameter to control this behavior.\n",
      "  _warn_prf(average, modifier, f\"{metric.capitalize()} is\", len(result))\n"
     ]
    },
    {
     "name": "stdout",
     "output_type": "stream",
     "text": [
      "\n",
      "[MLP] 모델 평가:\n",
      "--------------------------\n",
      "\n",
      "[w08chronic_c] 열을 예측:\n",
      "==================================\n",
      "gen\tnevals\n",
      "0  \t50    \n",
      "1  \t28    \n",
      "2  \t29    \n",
      "3  \t22    \n",
      "4  \t35    \n",
      "5  \t33    \n",
      "6  \t27    \n",
      "7  \t26    \n",
      "8  \t33    \n",
      "9  \t23    \n",
      "10 \t25    \n",
      "\n",
      "[Random Forest] 모델 평가:\n",
      "--------------------------\n"
     ]
    },
    {
     "name": "stderr",
     "output_type": "stream",
     "text": [
      "c:\\Users\\azamj\\anaconda3\\lib\\site-packages\\sklearn\\metrics\\_classification.py:1509: UndefinedMetricWarning: Precision is ill-defined and being set to 0.0 in labels with no predicted samples. Use `zero_division` parameter to control this behavior.\n",
      "  _warn_prf(average, modifier, f\"{metric.capitalize()} is\", len(result))\n"
     ]
    },
    {
     "name": "stdout",
     "output_type": "stream",
     "text": [
      "\n",
      "[Decision Tree] 모델 평가:\n",
      "--------------------------\n",
      "\n",
      "[SVM] 모델 평가:\n",
      "--------------------------\n"
     ]
    },
    {
     "name": "stderr",
     "output_type": "stream",
     "text": [
      "c:\\Users\\azamj\\anaconda3\\lib\\site-packages\\sklearn\\metrics\\_classification.py:1509: UndefinedMetricWarning: Precision is ill-defined and being set to 0.0 in labels with no predicted samples. Use `zero_division` parameter to control this behavior.\n",
      "  _warn_prf(average, modifier, f\"{metric.capitalize()} is\", len(result))\n"
     ]
    },
    {
     "name": "stdout",
     "output_type": "stream",
     "text": [
      "\n",
      "[MLP] 모델 평가:\n",
      "--------------------------\n",
      "\n",
      "[w08chronic_d] 열을 예측:\n",
      "==================================\n",
      "gen\tnevals\n",
      "0  \t50    \n",
      "1  \t32    \n",
      "2  \t30    \n",
      "3  \t36    \n",
      "4  \t29    \n",
      "5  \t40    \n",
      "6  \t29    \n",
      "7  \t24    \n",
      "8  \t29    \n",
      "9  \t30    \n",
      "10 \t30    \n",
      "\n",
      "[Random Forest] 모델 평가:\n",
      "--------------------------\n"
     ]
    },
    {
     "name": "stderr",
     "output_type": "stream",
     "text": [
      "c:\\Users\\azamj\\anaconda3\\lib\\site-packages\\sklearn\\metrics\\_classification.py:1509: UndefinedMetricWarning: Precision is ill-defined and being set to 0.0 in labels with no predicted samples. Use `zero_division` parameter to control this behavior.\n",
      "  _warn_prf(average, modifier, f\"{metric.capitalize()} is\", len(result))\n"
     ]
    },
    {
     "name": "stdout",
     "output_type": "stream",
     "text": [
      "\n",
      "[Decision Tree] 모델 평가:\n",
      "--------------------------\n",
      "\n",
      "[SVM] 모델 평가:\n",
      "--------------------------\n"
     ]
    },
    {
     "name": "stderr",
     "output_type": "stream",
     "text": [
      "c:\\Users\\azamj\\anaconda3\\lib\\site-packages\\sklearn\\metrics\\_classification.py:1509: UndefinedMetricWarning: Precision is ill-defined and being set to 0.0 in labels with no predicted samples. Use `zero_division` parameter to control this behavior.\n",
      "  _warn_prf(average, modifier, f\"{metric.capitalize()} is\", len(result))\n"
     ]
    },
    {
     "name": "stdout",
     "output_type": "stream",
     "text": [
      "\n",
      "[MLP] 모델 평가:\n",
      "--------------------------\n",
      "\n",
      "[w08chronic_e] 열을 예측:\n",
      "==================================\n",
      "gen\tnevals\n",
      "0  \t50    \n",
      "1  \t27    \n",
      "2  \t28    \n",
      "3  \t29    \n",
      "4  \t31    \n",
      "5  \t32    \n",
      "6  \t30    \n",
      "7  \t34    \n",
      "8  \t28    \n",
      "9  \t18    \n",
      "10 \t24    \n",
      "\n",
      "[Random Forest] 모델 평가:\n",
      "--------------------------\n"
     ]
    },
    {
     "name": "stderr",
     "output_type": "stream",
     "text": [
      "c:\\Users\\azamj\\anaconda3\\lib\\site-packages\\sklearn\\metrics\\_classification.py:1509: UndefinedMetricWarning: Precision is ill-defined and being set to 0.0 in labels with no predicted samples. Use `zero_division` parameter to control this behavior.\n",
      "  _warn_prf(average, modifier, f\"{metric.capitalize()} is\", len(result))\n"
     ]
    },
    {
     "name": "stdout",
     "output_type": "stream",
     "text": [
      "\n",
      "[Decision Tree] 모델 평가:\n",
      "--------------------------\n",
      "\n",
      "[SVM] 모델 평가:\n",
      "--------------------------\n"
     ]
    },
    {
     "name": "stderr",
     "output_type": "stream",
     "text": [
      "c:\\Users\\azamj\\anaconda3\\lib\\site-packages\\sklearn\\metrics\\_classification.py:1509: UndefinedMetricWarning: Precision is ill-defined and being set to 0.0 in labels with no predicted samples. Use `zero_division` parameter to control this behavior.\n",
      "  _warn_prf(average, modifier, f\"{metric.capitalize()} is\", len(result))\n"
     ]
    },
    {
     "name": "stdout",
     "output_type": "stream",
     "text": [
      "\n",
      "[MLP] 모델 평가:\n",
      "--------------------------\n",
      "\n",
      "[w08chronic_f] 열을 예측:\n",
      "==================================\n",
      "gen\tnevals\n",
      "0  \t50    \n",
      "1  \t36    \n",
      "2  \t26    \n",
      "3  \t34    \n",
      "4  \t31    \n",
      "5  \t32    \n",
      "6  \t25    \n",
      "7  \t33    \n",
      "8  \t36    \n",
      "9  \t32    \n",
      "10 \t33    \n",
      "\n",
      "[Random Forest] 모델 평가:\n",
      "--------------------------\n"
     ]
    },
    {
     "name": "stderr",
     "output_type": "stream",
     "text": [
      "c:\\Users\\azamj\\anaconda3\\lib\\site-packages\\sklearn\\metrics\\_classification.py:1509: UndefinedMetricWarning: Precision is ill-defined and being set to 0.0 in labels with no predicted samples. Use `zero_division` parameter to control this behavior.\n",
      "  _warn_prf(average, modifier, f\"{metric.capitalize()} is\", len(result))\n"
     ]
    },
    {
     "name": "stdout",
     "output_type": "stream",
     "text": [
      "\n",
      "[Decision Tree] 모델 평가:\n",
      "--------------------------\n",
      "\n",
      "[SVM] 모델 평가:\n",
      "--------------------------\n"
     ]
    },
    {
     "name": "stderr",
     "output_type": "stream",
     "text": [
      "c:\\Users\\azamj\\anaconda3\\lib\\site-packages\\sklearn\\metrics\\_classification.py:1509: UndefinedMetricWarning: Precision is ill-defined and being set to 0.0 in labels with no predicted samples. Use `zero_division` parameter to control this behavior.\n",
      "  _warn_prf(average, modifier, f\"{metric.capitalize()} is\", len(result))\n"
     ]
    },
    {
     "name": "stdout",
     "output_type": "stream",
     "text": [
      "\n",
      "[MLP] 모델 평가:\n",
      "--------------------------\n",
      "\n",
      "[w08chronic_g] 열을 예측:\n",
      "==================================\n",
      "gen\tnevals\n",
      "0  \t50    \n",
      "1  \t34    \n",
      "2  \t27    \n",
      "3  \t30    \n",
      "4  \t29    \n",
      "5  \t33    \n",
      "6  \t24    \n",
      "7  \t24    \n",
      "8  \t33    \n",
      "9  \t30    \n",
      "10 \t23    \n",
      "\n",
      "[Random Forest] 모델 평가:\n",
      "--------------------------\n",
      "\n",
      "[Decision Tree] 모델 평가:\n",
      "--------------------------\n",
      "\n",
      "[SVM] 모델 평가:\n",
      "--------------------------\n"
     ]
    },
    {
     "name": "stderr",
     "output_type": "stream",
     "text": [
      "c:\\Users\\azamj\\anaconda3\\lib\\site-packages\\sklearn\\metrics\\_classification.py:1509: UndefinedMetricWarning: Precision is ill-defined and being set to 0.0 in labels with no predicted samples. Use `zero_division` parameter to control this behavior.\n",
      "  _warn_prf(average, modifier, f\"{metric.capitalize()} is\", len(result))\n"
     ]
    },
    {
     "name": "stdout",
     "output_type": "stream",
     "text": [
      "\n",
      "[MLP] 모델 평가:\n",
      "--------------------------\n",
      "\n",
      "[w08chronic_h] 열을 예측:\n",
      "==================================\n",
      "gen\tnevals\n",
      "0  \t50    \n",
      "1  \t39    \n",
      "2  \t28    \n",
      "3  \t24    \n",
      "4  \t30    \n",
      "5  \t35    \n",
      "6  \t31    \n",
      "7  \t25    \n",
      "8  \t34    \n",
      "9  \t26    \n",
      "10 \t28    \n",
      "\n",
      "[Random Forest] 모델 평가:\n",
      "--------------------------\n",
      "\n",
      "[Decision Tree] 모델 평가:\n",
      "--------------------------\n",
      "\n",
      "[SVM] 모델 평가:\n",
      "--------------------------\n"
     ]
    },
    {
     "name": "stderr",
     "output_type": "stream",
     "text": [
      "c:\\Users\\azamj\\anaconda3\\lib\\site-packages\\sklearn\\metrics\\_classification.py:1509: UndefinedMetricWarning: Precision is ill-defined and being set to 0.0 in labels with no predicted samples. Use `zero_division` parameter to control this behavior.\n",
      "  _warn_prf(average, modifier, f\"{metric.capitalize()} is\", len(result))\n"
     ]
    },
    {
     "name": "stdout",
     "output_type": "stream",
     "text": [
      "\n",
      "[MLP] 모델 평가:\n",
      "--------------------------\n",
      "\n",
      "[w08chronic_i] 열을 예측:\n",
      "==================================\n",
      "gen\tnevals\n",
      "0  \t50    \n",
      "1  \t31    \n",
      "2  \t27    \n",
      "3  \t33    \n",
      "4  \t29    \n",
      "5  \t27    \n",
      "6  \t25    \n",
      "7  \t34    \n",
      "8  \t26    \n",
      "9  \t28    \n",
      "10 \t30    \n",
      "\n",
      "[Random Forest] 모델 평가:\n",
      "--------------------------\n",
      "\n",
      "[Decision Tree] 모델 평가:\n",
      "--------------------------\n",
      "\n",
      "[SVM] 모델 평가:\n",
      "--------------------------\n",
      "\n",
      "[MLP] 모델 평가:\n",
      "--------------------------\n",
      "\n",
      "[w08chronic_k] 열을 예측:\n",
      "==================================\n",
      "gen\tnevals\n",
      "0  \t50    \n",
      "1  \t30    \n",
      "2  \t30    \n",
      "3  \t24    \n",
      "4  \t34    \n",
      "5  \t33    \n",
      "6  \t25    \n",
      "7  \t38    \n",
      "8  \t31    \n",
      "9  \t36    \n",
      "10 \t33    \n",
      "\n",
      "[Random Forest] 모델 평가:\n",
      "--------------------------\n"
     ]
    },
    {
     "name": "stderr",
     "output_type": "stream",
     "text": [
      "c:\\Users\\azamj\\anaconda3\\lib\\site-packages\\sklearn\\metrics\\_classification.py:1509: UndefinedMetricWarning: Precision is ill-defined and being set to 0.0 in labels with no predicted samples. Use `zero_division` parameter to control this behavior.\n",
      "  _warn_prf(average, modifier, f\"{metric.capitalize()} is\", len(result))\n"
     ]
    },
    {
     "name": "stdout",
     "output_type": "stream",
     "text": [
      "\n",
      "[Decision Tree] 모델 평가:\n",
      "--------------------------\n",
      "\n",
      "[SVM] 모델 평가:\n",
      "--------------------------\n"
     ]
    },
    {
     "name": "stderr",
     "output_type": "stream",
     "text": [
      "c:\\Users\\azamj\\anaconda3\\lib\\site-packages\\sklearn\\metrics\\_classification.py:1509: UndefinedMetricWarning: Precision is ill-defined and being set to 0.0 in labels with no predicted samples. Use `zero_division` parameter to control this behavior.\n",
      "  _warn_prf(average, modifier, f\"{metric.capitalize()} is\", len(result))\n"
     ]
    },
    {
     "name": "stdout",
     "output_type": "stream",
     "text": [
      "\n",
      "[MLP] 모델 평가:\n",
      "--------------------------\n"
     ]
    },
    {
     "name": "stderr",
     "output_type": "stream",
     "text": [
      "c:\\Users\\azamj\\anaconda3\\lib\\site-packages\\sklearn\\metrics\\_classification.py:1509: UndefinedMetricWarning: Precision is ill-defined and being set to 0.0 in labels with no predicted samples. Use `zero_division` parameter to control this behavior.\n",
      "  _warn_prf(average, modifier, f\"{metric.capitalize()} is\", len(result))\n"
     ]
    },
    {
     "name": "stdout",
     "output_type": "stream",
     "text": [
      "\n",
      "[w08chronic_l] 열을 예측:\n",
      "==================================\n",
      "gen\tnevals\n",
      "0  \t50    \n",
      "1  \t26    \n",
      "2  \t32    \n",
      "3  \t31    \n",
      "4  \t29    \n",
      "5  \t32    \n",
      "6  \t38    \n",
      "7  \t37    \n",
      "8  \t33    \n",
      "9  \t33    \n",
      "10 \t25    \n",
      "\n",
      "[Random Forest] 모델 평가:\n",
      "--------------------------\n"
     ]
    },
    {
     "name": "stderr",
     "output_type": "stream",
     "text": [
      "c:\\Users\\azamj\\anaconda3\\lib\\site-packages\\sklearn\\metrics\\_classification.py:1509: UndefinedMetricWarning: Precision is ill-defined and being set to 0.0 in labels with no predicted samples. Use `zero_division` parameter to control this behavior.\n",
      "  _warn_prf(average, modifier, f\"{metric.capitalize()} is\", len(result))\n"
     ]
    },
    {
     "name": "stdout",
     "output_type": "stream",
     "text": [
      "\n",
      "[Decision Tree] 모델 평가:\n",
      "--------------------------\n",
      "\n",
      "[SVM] 모델 평가:\n",
      "--------------------------\n"
     ]
    },
    {
     "name": "stderr",
     "output_type": "stream",
     "text": [
      "c:\\Users\\azamj\\anaconda3\\lib\\site-packages\\sklearn\\metrics\\_classification.py:1509: UndefinedMetricWarning: Precision is ill-defined and being set to 0.0 in labels with no predicted samples. Use `zero_division` parameter to control this behavior.\n",
      "  _warn_prf(average, modifier, f\"{metric.capitalize()} is\", len(result))\n"
     ]
    },
    {
     "name": "stdout",
     "output_type": "stream",
     "text": [
      "\n",
      "[MLP] 모델 평가:\n",
      "--------------------------\n",
      "\n",
      "[w08chronic_m] 열을 예측:\n",
      "==================================\n",
      "gen\tnevals\n",
      "0  \t50    \n",
      "1  \t38    \n",
      "2  \t25    \n",
      "3  \t31    \n",
      "4  \t32    \n",
      "5  \t31    \n",
      "6  \t35    \n",
      "7  \t27    \n",
      "8  \t32    \n",
      "9  \t22    \n",
      "10 \t26    \n",
      "\n",
      "[Random Forest] 모델 평가:\n",
      "--------------------------\n",
      "\n",
      "[Decision Tree] 모델 평가:\n",
      "--------------------------\n",
      "\n",
      "[SVM] 모델 평가:\n",
      "--------------------------\n"
     ]
    },
    {
     "name": "stderr",
     "output_type": "stream",
     "text": [
      "c:\\Users\\azamj\\anaconda3\\lib\\site-packages\\sklearn\\metrics\\_classification.py:1509: UndefinedMetricWarning: Precision is ill-defined and being set to 0.0 in labels with no predicted samples. Use `zero_division` parameter to control this behavior.\n",
      "  _warn_prf(average, modifier, f\"{metric.capitalize()} is\", len(result))\n"
     ]
    },
    {
     "name": "stdout",
     "output_type": "stream",
     "text": [
      "\n",
      "[MLP] 모델 평가:\n",
      "--------------------------\n"
     ]
    }
   ],
   "source": [
    "# 8. 각 타겟 열을 사용한 학습 및 평가\n",
    "for target_column in columns:\n",
    "    print(f'\\n[{target_column}] 열을 예측:')\n",
    "    print('==================================')\n",
    "\n",
    "    y = cleaned_data[target_column].values\n",
    "\n",
    "    # 데이터 나누기\n",
    "    X_train, X_test, y_train, y_test = train_test_split(X_scaled, y, test_size=0.2, random_state=42)\n",
    "\n",
    "    # 9. 유전 알고리즘을 사용한 피처 선택\n",
    "    best_individual = run_ga()\n",
    "    selected_features = [i for i, bit in enumerate(best_individual) if bit]\n",
    "\n",
    "    if len(selected_features) == 0:\n",
    "        print(f'선택된 피처가 없습니다. {target_column} 열에 대한 평가를 건너뜁니다.')\n",
    "        continue\n",
    "\n",
    "    X_train_selected = X_train[:, selected_features]\n",
    "    X_test_selected = X_test[:, selected_features]\n",
    "\n",
    "    # 타겟 클래스가 두 개 이상이면 AUC 계산을 위해 타겟을 이진화 (One-vs-Rest 방식)\n",
    "    y_test_bin = label_binarize(y_test, classes=np.unique(y))\n",
    "    if y_test_bin.shape[1] == 1:  # 클래스가 하나인 경우 (로지스틱 회귀처럼 처리 안 되게)\n",
    "        y_test_bin = np.concatenate([1 - y_test_bin, y_test_bin], axis=1)\n",
    "\n",
    "    # 10. 각 모델에 대해 학습 및 평가\n",
    "    for model_name, model in models.items():\n",
    "        print(f'\\n[{model_name}] 모델 평가:')\n",
    "        print('--------------------------')\n",
    "\n",
    "        try:\n",
    "            # 모델 학습\n",
    "            model.fit(X_train_selected, y_train)\n",
    "\n",
    "            # 예측\n",
    "            y_pred = model.predict(X_test_selected)\n",
    "            \n",
    "            # 확률 예측 값이 있는 경우\n",
    "            if hasattr(model, \"predict_proba\"):\n",
    "                y_pred_proba = model.predict_proba(X_test_selected)\n",
    "            else:\n",
    "                y_pred_proba = np.zeros((len(y_test), len(np.unique(y_test))))  # 확률 값을 지원하지 않는 모델에 대한 처리\n",
    "\n",
    "            # 정확도 계산\n",
    "            accuracy = accuracy_score(y_test, y_pred)\n",
    "\n",
    "            # precision, recall, f1-score 계산 (weighted average)\n",
    "            precision, recall, f1, _ = precision_recall_fscore_support(y_test, y_pred, average='weighted')\n",
    "\n",
    "            # Micro, Macro, Weighted F1 계산\n",
    "            micro_f1 = f1_score(y_test, y_pred, average='micro')\n",
    "            macro_f1 = f1_score(y_test, y_pred, average='macro')\n",
    "            weighted_f1 = f1_score(y_test, y_pred, average='weighted')\n",
    "\n",
    "            # AUC 계산 (다중 클래스의 경우 One-vs-Rest 방식 사용)\n",
    "            try:\n",
    "                auc = roc_auc_score(y_test_bin, y_pred_proba, multi_class=\"ovr\", average='weighted')\n",
    "            except ValueError:\n",
    "                auc = np.nan  # AUC 계산 불가 시 처리\n",
    "\n",
    "            # 결과 추가\n",
    "            new_row = pd.DataFrame({\n",
    "                'Model': [model_name],\n",
    "                'Target': [target_column],\n",
    "                'Precision': [precision],\n",
    "                'Recall': [recall],\n",
    "                'F1-Score': [f1],\n",
    "                'Accuracy': [accuracy],\n",
    "                'Micro F1': [micro_f1],\n",
    "                'Macro F1': [macro_f1],\n",
    "                'Weighted F1': [weighted_f1],\n",
    "                'AUC': [auc]\n",
    "            })\n",
    "            result_table = pd.concat([result_table, new_row], ignore_index=True)\n",
    "        except Exception as e:\n",
    "            print(f\"{model_name} 모델에서 오류 발생: {e}\")\n",
    "            continue"
   ]
  },
  {
   "cell_type": "code",
   "execution_count": 35,
   "metadata": {},
   "outputs": [
    {
     "name": "stdout",
     "output_type": "stream",
     "text": [
      "\n",
      "전체 모델 평가 결과:\n",
      "          Target          Model  Precision    Recall  F1-Score  Accuracy  \\\n",
      "0   w08chronic_a  Random Forest   0.765374  0.746137  0.743510  0.746137   \n",
      "1   w08chronic_a  Decision Tree   0.676606  0.675497  0.675653  0.675497   \n",
      "2   w08chronic_a            SVM   0.757848  0.718543  0.710913  0.718543   \n",
      "3   w08chronic_a            MLP   0.682727  0.682119  0.682260  0.682119   \n",
      "4   w08chronic_b  Random Forest   0.723311  0.771523  0.694203  0.771523   \n",
      "5   w08chronic_b  Decision Tree   0.668346  0.665563  0.666938  0.665563   \n",
      "6   w08chronic_b            SVM   0.591847  0.769316  0.669012  0.769316   \n",
      "7   w08chronic_b            MLP   0.685979  0.700883  0.692781  0.700883   \n",
      "8   w08chronic_c  Random Forest   0.859611  0.927152  0.892105  0.927152   \n",
      "9   w08chronic_c  Decision Tree   0.876913  0.870861  0.873842  0.870861   \n",
      "10  w08chronic_c            SVM   0.859611  0.927152  0.892105  0.927152   \n",
      "11  w08chronic_c            MLP   0.877986  0.901766  0.888770  0.901766   \n",
      "12  w08chronic_d  Random Forest   0.941285  0.970199  0.955523  0.970199   \n",
      "13  w08chronic_d  Decision Tree   0.946020  0.938190  0.942036  0.938190   \n",
      "14  w08chronic_d            SVM   0.941285  0.970199  0.955523  0.970199   \n",
      "15  w08chronic_d            MLP   0.949683  0.967991  0.956324  0.967991   \n",
      "16  w08chronic_e  Random Forest   0.943428  0.971302  0.957163  0.971302   \n",
      "17  w08chronic_e  Decision Tree   0.945688  0.929360  0.937346  0.929360   \n",
      "18  w08chronic_e            SVM   0.943428  0.971302  0.957163  0.971302   \n",
      "19  w08chronic_e            MLP   0.943398  0.970199  0.956610  0.970199   \n",
      "20  w08chronic_f  Random Forest   0.799307  0.894040  0.844024  0.894040   \n",
      "21  w08chronic_f  Decision Tree   0.816257  0.814570  0.815411  0.814570   \n",
      "22  w08chronic_f            SVM   0.799307  0.894040  0.844024  0.894040   \n",
      "23  w08chronic_f            MLP   0.827155  0.871965  0.845152  0.871965   \n",
      "24  w08chronic_g  Random Forest   0.950821  0.948124  0.924912  0.948124   \n",
      "25  w08chronic_g  Decision Tree   0.910930  0.899558  0.905056  0.899558   \n",
      "26  w08chronic_g            SVM   0.894757  0.945916  0.919626  0.945916   \n",
      "27  w08chronic_g            MLP   0.900541  0.926049  0.912561  0.926049   \n",
      "28  w08chronic_h  Random Forest   0.953796  0.951435  0.928813  0.951435   \n",
      "29  w08chronic_h  Decision Tree   0.917851  0.916115  0.916978  0.916115   \n",
      "30  w08chronic_h            SVM   0.903129  0.950331  0.926129  0.950331   \n",
      "31  w08chronic_h            MLP   0.918102  0.943709  0.927943  0.943709   \n",
      "32  w08chronic_i  Random Forest   0.762248  0.775938  0.755562  0.775938   \n",
      "33  w08chronic_i  Decision Tree   0.691089  0.705298  0.696570  0.705298   \n",
      "34  w08chronic_i            SVM   0.724654  0.747241  0.711850  0.747241   \n",
      "35  w08chronic_i            MLP   0.718333  0.733996  0.723002  0.733996   \n",
      "36  w08chronic_k  Random Forest   0.971508  0.985651  0.978529  0.985651   \n",
      "37  w08chronic_k  Decision Tree   0.970974  0.949227  0.959977  0.949227   \n",
      "38  w08chronic_k            SVM   0.971508  0.985651  0.978529  0.985651   \n",
      "39  w08chronic_k            MLP   0.971508  0.985651  0.978529  0.985651   \n",
      "40  w08chronic_l  Random Forest   0.973685  0.986755  0.980177  0.986755   \n",
      "41  w08chronic_l  Decision Tree   0.978342  0.966887  0.972294  0.966887   \n",
      "42  w08chronic_l            SVM   0.973685  0.986755  0.980177  0.986755   \n",
      "43  w08chronic_l            MLP   0.981371  0.986755  0.982061  0.986755   \n",
      "44  w08chronic_m  Random Forest   0.992333  0.992274  0.989284  0.992274   \n",
      "45  w08chronic_m  Decision Tree   0.985764  0.980132  0.982808  0.980132   \n",
      "46  w08chronic_m            SVM   0.982418  0.991170  0.986775  0.991170   \n",
      "47  w08chronic_m            MLP   0.993421  0.993377  0.991402  0.993377   \n",
      "\n",
      "    Micro F1  Macro F1  Weighted F1       AUC  \n",
      "0   0.746137  0.744432     0.743510  0.787529  \n",
      "1   0.675497  0.675369     0.675653  0.675937  \n",
      "2   0.718543  0.712719     0.710913  0.786455  \n",
      "3   0.682119  0.681857     0.682260  0.742545  \n",
      "4   0.771523  0.490246     0.694203  0.712833  \n",
      "5   0.665563  0.532773     0.666938  0.533067  \n",
      "6   0.769316  0.434810     0.669012  0.630350  \n",
      "7   0.700883  0.556450     0.692781  0.622387  \n",
      "8   0.927152  0.481100     0.892105  0.625685  \n",
      "9   0.870861  0.544170     0.873842  0.546429  \n",
      "10  0.927152  0.481100     0.892105  0.650469  \n",
      "11  0.901766  0.541923     0.888770  0.618497  \n",
      "12  0.970199  0.492437     0.955523  0.663443  \n",
      "13  0.938190  0.532387     0.942036  0.537353  \n",
      "14  0.970199  0.492437     0.955523  0.587831  \n",
      "15  0.967991  0.524117     0.956324  0.574854  \n",
      "16  0.971302  0.492721     0.957163  0.586342  \n",
      "17  0.929360  0.511063     0.937346  0.515734  \n",
      "18  0.971302  0.492721     0.957163  0.569406  \n",
      "19  0.970199  0.492437     0.956610  0.566434  \n",
      "20  0.894040  0.472028     0.844024  0.703266  \n",
      "21  0.814570  0.515094     0.815411  0.515239  \n",
      "22  0.894040  0.472028     0.844024  0.663799  \n",
      "23  0.871965  0.526082     0.845152  0.650437  \n",
      "24  0.948124  0.525871     0.924912  0.673219  \n",
      "25  0.899558  0.563341     0.905056  0.571702  \n",
      "26  0.945916  0.486103     0.919626  0.664516  \n",
      "27  0.926049  0.508927     0.912561  0.646108  \n",
      "28  0.951435  0.509282     0.928813  0.621087  \n",
      "29  0.916115  0.564863     0.916978  0.566241  \n",
      "30  0.950331  0.487267     0.926129  0.662821  \n",
      "31  0.943709  0.538102     0.927943  0.604284  \n",
      "32  0.775938  0.679489     0.755562  0.792422  \n",
      "33  0.705298  0.617008     0.696570  0.612157  \n",
      "34  0.747241  0.613460     0.711850  0.756935  \n",
      "35  0.733996  0.647394     0.723002  0.727884  \n",
      "36  0.985651  0.496387     0.978529  0.649410  \n",
      "37  0.949227  0.486976     0.959977  0.481523  \n",
      "38  0.985651  0.496387     0.978529  0.688345  \n",
      "39  0.985651  0.496387     0.978529  0.638212  \n",
      "40  0.986755  0.496667     0.980177  0.894901  \n",
      "41  0.966887  0.574887     0.972294  0.613255  \n",
      "42  0.986755  0.496667     0.980177  0.845638  \n",
      "43  0.986755  0.568092     0.982061  0.819631  \n",
      "44  0.992274  0.609170     0.989284  0.842010  \n",
      "45  0.980132  0.585881     0.982808  0.618318  \n",
      "46  0.991170  0.497783     0.986775  0.941119  \n",
      "47  0.993377  0.698335     0.991402  0.787444  \n"
     ]
    }
   ],
   "source": [
    "# 10. 결과 테이블 출력\n",
    "print(\"\\n전체 모델 평가 결과:\")\n",
    "print(result_table)"
   ]
  }
 ],
 "metadata": {
  "kernelspec": {
   "display_name": "base",
   "language": "python",
   "name": "python3"
  },
  "language_info": {
   "codemirror_mode": {
    "name": "ipython",
    "version": 3
   },
   "file_extension": ".py",
   "mimetype": "text/x-python",
   "name": "python",
   "nbconvert_exporter": "python",
   "pygments_lexer": "ipython3",
   "version": "3.9.13"
  }
 },
 "nbformat": 4,
 "nbformat_minor": 2
}
