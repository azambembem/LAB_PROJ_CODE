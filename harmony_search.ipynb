{
 "cells": [
  {
   "cell_type": "code",
   "execution_count": 14,
   "metadata": {},
   "outputs": [],
   "source": [
    "import pandas as pd\n",
    "import numpy as np\n",
    "import random\n",
    "from sklearn.model_selection import train_test_split\n",
    "from sklearn.preprocessing import StandardScaler\n",
    "from sklearn.ensemble import RandomForestClassifier\n",
    "from sklearn.tree import DecisionTreeClassifier\n",
    "from sklearn.svm import SVC\n",
    "from sklearn.neural_network import MLPClassifier\n",
    "from sklearn.metrics import accuracy_score, f1_score, roc_auc_score, precision_recall_fscore_support\n",
    "from sklearn.preprocessing import label_binarize\n"
   ]
  },
  {
   "cell_type": "code",
   "execution_count": 16,
   "metadata": {},
   "outputs": [],
   "source": [
    "# 1. 데이터 불러오기\n",
    "data = pd.read_csv('azdigar nav sartirovka+0 delete.csv')\n"
   ]
  },
  {
   "cell_type": "code",
   "execution_count": 17,
   "metadata": {},
   "outputs": [],
   "source": [
    "# 분석할 열들\n",
    "columns = [\n",
    "    'w08chronic_a', 'w08chronic_b', 'w08chronic_c',\n",
    "    'w08chronic_d', 'w08chronic_e', 'w08chronic_f',\n",
    "    'w08chronic_g', 'w08chronic_h', 'w08chronic_i',\n",
    "    'w08chronic_k', 'w08chronic_l', 'w08chronic_m'\n",
    "]"
   ]
  },
  {
   "cell_type": "code",
   "execution_count": 18,
   "metadata": {},
   "outputs": [],
   "source": [
    "# 2. 데이터 클리닝 - 'w08chronic_m'에서 값이 3인 행 제거\n",
    "cleaned_data = data[data['w08chronic_m'] != 3]"
   ]
  },
  {
   "cell_type": "code",
   "execution_count": 19,
   "metadata": {},
   "outputs": [],
   "source": [
    "# 3. 피처 데이터 정의 (모든 chronic 컬럼 제외)\n",
    "X = cleaned_data.drop(columns=columns)\n",
    "y_all = cleaned_data[columns]"
   ]
  },
  {
   "cell_type": "code",
   "execution_count": 20,
   "metadata": {},
   "outputs": [],
   "source": [
    "# 4. 데이터 스케일링\n",
    "scaler = StandardScaler()\n",
    "X_scaled = scaler.fit_transform(X)"
   ]
  },
  {
   "cell_type": "code",
   "execution_count": 21,
   "metadata": {},
   "outputs": [],
   "source": [
    "# 5. 모델 정의\n",
    "models = {\n",
    "    'Random Forest': RandomForestClassifier(random_state=42),\n",
    "    'Decision Tree': DecisionTreeClassifier(random_state=42),\n",
    "    'SVM': SVC(probability=True, random_state=42),\n",
    "    'MLP': MLPClassifier(max_iter=2000, random_state=42)\n",
    "}"
   ]
  },
  {
   "cell_type": "code",
   "execution_count": 33,
   "metadata": {},
   "outputs": [],
   "source": [
    "# 6. Harmony Search 파라미터 설정\n",
    "HMS = 5  # Harmony Memory Size (조화 메모리 크기)\n",
    "HMCR = 0.9  # Harmony Memory Considering Rate (기존 솔루션 사용 확률)\n",
    "PAR = 0.3  # Pitch Adjusting Rate (피처 조정 확률)\n",
    "max_iterations = 10  # 최대 반복 횟수\n",
    "\n",
    "# Harmony Search 초기화\n",
    "def initialize_harmony_memory():\n",
    "    return [np.random.randint(2, size=X_scaled.shape[1]) for _ in range(HMS)]\n",
    "\n",
    "# Harmony 평가 함수\n",
    "def evaluate_harmony(harmony):\n",
    "    selected_features = [i for i, bit in enumerate(harmony) if bit]\n",
    "    if len(selected_features) == 0:\n",
    "        return 0, 0  # 피처가 선택되지 않으면 0 리턴\n",
    "    X_train_selected = X_train[:, selected_features]\n",
    "    X_test_selected = X_test[:, selected_features]\n",
    "    \n",
    "    model = RandomForestClassifier(random_state=42)\n",
    "    model.fit(X_train_selected, y_train)\n",
    "    y_pred = model.predict(X_test_selected)\n",
    "\n",
    "    # AUC를 위해 타겟 클래스를 이진화\n",
    "    y_test_bin = label_binarize(y_test, classes=np.unique(y_train))  # 여기에 y_train의 고유 클래스 기반 이진화\n",
    "    if y_test_bin.shape[1] == 1:  # 클래스가 하나일 경우\n",
    "        y_test_bin = np.concatenate([1 - y_test_bin, y_test_bin], axis=1)\n",
    "\n",
    "    f1 = f1_score(y_test, y_pred, average='macro')\n",
    "\n",
    "    # AUC 계산 시 다중 클래스를 고려\n",
    "    auc = roc_auc_score(y_test_bin, model.predict_proba(X_test_selected), multi_class=\"ovr\", average=\"macro\")\n",
    "    return f1, auc\n",
    "\n",
    "# 새로운 Harmony 생성 함수\n",
    "def generate_new_harmony(HM):\n",
    "    new_harmony = []\n",
    "    for i in range(X_scaled.shape[1]):\n",
    "        if random.random() < HMCR:\n",
    "            new_harmony.append(HM[random.randint(0, HMS-1)][i])\n",
    "        else:\n",
    "            new_harmony.append(random.randint(0, 1))\n",
    "        if random.random() < PAR:\n",
    "            new_harmony[i] = 1 - new_harmony[i]  # 피처 선택 변경 (뮤테이션)\n",
    "    return new_harmony\n",
    "\n",
    "# Harmony Search 실행 함수\n",
    "def run_harmony_search():\n",
    "    harmony_memory = initialize_harmony_memory()\n",
    "    best_harmony = None\n",
    "    best_f1 = -1\n",
    "\n",
    "    for iteration in range(max_iterations):\n",
    "        print(f\"Iteration {iteration + 1}/{max_iterations}\")  # 진행 상황 출력\n",
    "        new_harmony = generate_new_harmony(harmony_memory)\n",
    "        new_f1, new_auc = evaluate_harmony(new_harmony)\n",
    "\n",
    "        worst_index = np.argmin([evaluate_harmony(h)[0] for h in harmony_memory])\n",
    "        if new_f1 > evaluate_harmony(harmony_memory[worst_index])[0]:\n",
    "            harmony_memory[worst_index] = new_harmony\n",
    "\n",
    "        if new_f1 > best_f1:\n",
    "            best_f1 = new_f1\n",
    "            best_harmony = new_harmony\n",
    "\n",
    "    return best_harmony\n"
   ]
  },
  {
   "cell_type": "code",
   "execution_count": 34,
   "metadata": {},
   "outputs": [],
   "source": [
    "# 7. 결과 저장을 위한 빈 데이터프레임 생성\n",
    "result_table = pd.DataFrame(columns=['Target', 'Model', 'Precision', 'Recall', 'F1-Score', 'Accuracy', 'Micro F1', 'Macro F1', 'Weighted F1', 'AUC'])"
   ]
  },
  {
   "cell_type": "code",
   "execution_count": 35,
   "metadata": {},
   "outputs": [
    {
     "name": "stdout",
     "output_type": "stream",
     "text": [
      "\n",
      "[w08chronic_a] 열을 예측:\n",
      "==================================\n",
      "Iteration 1/10\n",
      "Iteration 2/10\n",
      "Iteration 3/10\n",
      "Iteration 4/10\n",
      "Iteration 5/10\n",
      "Iteration 6/10\n",
      "Iteration 7/10\n",
      "Iteration 8/10\n",
      "Iteration 9/10\n",
      "Iteration 10/10\n",
      "\n",
      "[Random Forest] 모델 평가:\n",
      "--------------------------\n",
      "\n",
      "[Decision Tree] 모델 평가:\n",
      "--------------------------\n",
      "\n",
      "[SVM] 모델 평가:\n",
      "--------------------------\n",
      "\n",
      "[MLP] 모델 평가:\n",
      "--------------------------\n",
      "\n",
      "[w08chronic_b] 열을 예측:\n",
      "==================================\n",
      "Iteration 1/10\n",
      "Iteration 2/10\n",
      "Iteration 3/10\n",
      "Iteration 4/10\n",
      "Iteration 5/10\n",
      "Iteration 6/10\n",
      "Iteration 7/10\n",
      "Iteration 8/10\n",
      "Iteration 9/10\n",
      "Iteration 10/10\n",
      "\n",
      "[Random Forest] 모델 평가:\n",
      "--------------------------\n",
      "\n",
      "[Decision Tree] 모델 평가:\n",
      "--------------------------\n",
      "\n",
      "[SVM] 모델 평가:\n",
      "--------------------------\n"
     ]
    },
    {
     "name": "stderr",
     "output_type": "stream",
     "text": [
      "c:\\Users\\azamj\\anaconda3\\lib\\site-packages\\sklearn\\metrics\\_classification.py:1509: UndefinedMetricWarning: Precision is ill-defined and being set to 0.0 in labels with no predicted samples. Use `zero_division` parameter to control this behavior.\n",
      "  _warn_prf(average, modifier, f\"{metric.capitalize()} is\", len(result))\n"
     ]
    },
    {
     "name": "stdout",
     "output_type": "stream",
     "text": [
      "\n",
      "[MLP] 모델 평가:\n",
      "--------------------------\n",
      "\n",
      "[w08chronic_c] 열을 예측:\n",
      "==================================\n",
      "Iteration 1/10\n",
      "Iteration 2/10\n",
      "Iteration 3/10\n",
      "Iteration 4/10\n",
      "Iteration 5/10\n",
      "Iteration 6/10\n",
      "Iteration 7/10\n",
      "Iteration 8/10\n",
      "Iteration 9/10\n",
      "Iteration 10/10\n",
      "\n",
      "[Random Forest] 모델 평가:\n",
      "--------------------------\n"
     ]
    },
    {
     "name": "stderr",
     "output_type": "stream",
     "text": [
      "c:\\Users\\azamj\\anaconda3\\lib\\site-packages\\sklearn\\metrics\\_classification.py:1509: UndefinedMetricWarning: Precision is ill-defined and being set to 0.0 in labels with no predicted samples. Use `zero_division` parameter to control this behavior.\n",
      "  _warn_prf(average, modifier, f\"{metric.capitalize()} is\", len(result))\n"
     ]
    },
    {
     "name": "stdout",
     "output_type": "stream",
     "text": [
      "\n",
      "[Decision Tree] 모델 평가:\n",
      "--------------------------\n",
      "\n",
      "[SVM] 모델 평가:\n",
      "--------------------------\n"
     ]
    },
    {
     "name": "stderr",
     "output_type": "stream",
     "text": [
      "c:\\Users\\azamj\\anaconda3\\lib\\site-packages\\sklearn\\metrics\\_classification.py:1509: UndefinedMetricWarning: Precision is ill-defined and being set to 0.0 in labels with no predicted samples. Use `zero_division` parameter to control this behavior.\n",
      "  _warn_prf(average, modifier, f\"{metric.capitalize()} is\", len(result))\n"
     ]
    },
    {
     "name": "stdout",
     "output_type": "stream",
     "text": [
      "\n",
      "[MLP] 모델 평가:\n",
      "--------------------------\n",
      "\n",
      "[w08chronic_d] 열을 예측:\n",
      "==================================\n",
      "Iteration 1/10\n",
      "Iteration 2/10\n",
      "Iteration 3/10\n",
      "Iteration 4/10\n",
      "Iteration 5/10\n",
      "Iteration 6/10\n",
      "Iteration 7/10\n",
      "Iteration 8/10\n",
      "Iteration 9/10\n",
      "Iteration 10/10\n",
      "\n",
      "[Random Forest] 모델 평가:\n",
      "--------------------------\n"
     ]
    },
    {
     "name": "stderr",
     "output_type": "stream",
     "text": [
      "c:\\Users\\azamj\\anaconda3\\lib\\site-packages\\sklearn\\metrics\\_classification.py:1509: UndefinedMetricWarning: Precision is ill-defined and being set to 0.0 in labels with no predicted samples. Use `zero_division` parameter to control this behavior.\n",
      "  _warn_prf(average, modifier, f\"{metric.capitalize()} is\", len(result))\n"
     ]
    },
    {
     "name": "stdout",
     "output_type": "stream",
     "text": [
      "\n",
      "[Decision Tree] 모델 평가:\n",
      "--------------------------\n",
      "\n",
      "[SVM] 모델 평가:\n",
      "--------------------------\n"
     ]
    },
    {
     "name": "stderr",
     "output_type": "stream",
     "text": [
      "c:\\Users\\azamj\\anaconda3\\lib\\site-packages\\sklearn\\metrics\\_classification.py:1509: UndefinedMetricWarning: Precision is ill-defined and being set to 0.0 in labels with no predicted samples. Use `zero_division` parameter to control this behavior.\n",
      "  _warn_prf(average, modifier, f\"{metric.capitalize()} is\", len(result))\n"
     ]
    },
    {
     "name": "stdout",
     "output_type": "stream",
     "text": [
      "\n",
      "[MLP] 모델 평가:\n",
      "--------------------------\n",
      "\n",
      "[w08chronic_e] 열을 예측:\n",
      "==================================\n",
      "Iteration 1/10\n",
      "Iteration 2/10\n",
      "Iteration 3/10\n",
      "Iteration 4/10\n",
      "Iteration 5/10\n",
      "Iteration 6/10\n",
      "Iteration 7/10\n",
      "Iteration 8/10\n",
      "Iteration 9/10\n",
      "Iteration 10/10\n",
      "\n",
      "[Random Forest] 모델 평가:\n",
      "--------------------------\n"
     ]
    },
    {
     "name": "stderr",
     "output_type": "stream",
     "text": [
      "c:\\Users\\azamj\\anaconda3\\lib\\site-packages\\sklearn\\metrics\\_classification.py:1509: UndefinedMetricWarning: Precision is ill-defined and being set to 0.0 in labels with no predicted samples. Use `zero_division` parameter to control this behavior.\n",
      "  _warn_prf(average, modifier, f\"{metric.capitalize()} is\", len(result))\n"
     ]
    },
    {
     "name": "stdout",
     "output_type": "stream",
     "text": [
      "\n",
      "[Decision Tree] 모델 평가:\n",
      "--------------------------\n",
      "\n",
      "[SVM] 모델 평가:\n",
      "--------------------------\n"
     ]
    },
    {
     "name": "stderr",
     "output_type": "stream",
     "text": [
      "c:\\Users\\azamj\\anaconda3\\lib\\site-packages\\sklearn\\metrics\\_classification.py:1509: UndefinedMetricWarning: Precision is ill-defined and being set to 0.0 in labels with no predicted samples. Use `zero_division` parameter to control this behavior.\n",
      "  _warn_prf(average, modifier, f\"{metric.capitalize()} is\", len(result))\n"
     ]
    },
    {
     "name": "stdout",
     "output_type": "stream",
     "text": [
      "\n",
      "[MLP] 모델 평가:\n",
      "--------------------------\n",
      "\n",
      "[w08chronic_f] 열을 예측:\n",
      "==================================\n",
      "Iteration 1/10\n",
      "Iteration 2/10\n",
      "Iteration 3/10\n",
      "Iteration 4/10\n",
      "Iteration 5/10\n",
      "Iteration 6/10\n",
      "Iteration 7/10\n",
      "Iteration 8/10\n",
      "Iteration 9/10\n",
      "Iteration 10/10\n",
      "\n",
      "[Random Forest] 모델 평가:\n",
      "--------------------------\n"
     ]
    },
    {
     "name": "stderr",
     "output_type": "stream",
     "text": [
      "c:\\Users\\azamj\\anaconda3\\lib\\site-packages\\sklearn\\metrics\\_classification.py:1509: UndefinedMetricWarning: Precision is ill-defined and being set to 0.0 in labels with no predicted samples. Use `zero_division` parameter to control this behavior.\n",
      "  _warn_prf(average, modifier, f\"{metric.capitalize()} is\", len(result))\n"
     ]
    },
    {
     "name": "stdout",
     "output_type": "stream",
     "text": [
      "\n",
      "[Decision Tree] 모델 평가:\n",
      "--------------------------\n",
      "\n",
      "[SVM] 모델 평가:\n",
      "--------------------------\n"
     ]
    },
    {
     "name": "stderr",
     "output_type": "stream",
     "text": [
      "c:\\Users\\azamj\\anaconda3\\lib\\site-packages\\sklearn\\metrics\\_classification.py:1509: UndefinedMetricWarning: Precision is ill-defined and being set to 0.0 in labels with no predicted samples. Use `zero_division` parameter to control this behavior.\n",
      "  _warn_prf(average, modifier, f\"{metric.capitalize()} is\", len(result))\n"
     ]
    },
    {
     "name": "stdout",
     "output_type": "stream",
     "text": [
      "\n",
      "[MLP] 모델 평가:\n",
      "--------------------------\n",
      "\n",
      "[w08chronic_g] 열을 예측:\n",
      "==================================\n",
      "Iteration 1/10\n",
      "Iteration 2/10\n",
      "Iteration 3/10\n",
      "Iteration 4/10\n",
      "Iteration 5/10\n",
      "Iteration 6/10\n",
      "Iteration 7/10\n",
      "Iteration 8/10\n",
      "Iteration 9/10\n",
      "Iteration 10/10\n",
      "\n",
      "[Random Forest] 모델 평가:\n",
      "--------------------------\n",
      "\n",
      "[Decision Tree] 모델 평가:\n",
      "--------------------------\n",
      "\n",
      "[SVM] 모델 평가:\n",
      "--------------------------\n"
     ]
    },
    {
     "name": "stderr",
     "output_type": "stream",
     "text": [
      "c:\\Users\\azamj\\anaconda3\\lib\\site-packages\\sklearn\\metrics\\_classification.py:1509: UndefinedMetricWarning: Precision is ill-defined and being set to 0.0 in labels with no predicted samples. Use `zero_division` parameter to control this behavior.\n",
      "  _warn_prf(average, modifier, f\"{metric.capitalize()} is\", len(result))\n"
     ]
    },
    {
     "name": "stdout",
     "output_type": "stream",
     "text": [
      "\n",
      "[MLP] 모델 평가:\n",
      "--------------------------\n",
      "\n",
      "[w08chronic_h] 열을 예측:\n",
      "==================================\n",
      "Iteration 1/10\n",
      "Iteration 2/10\n",
      "Iteration 3/10\n",
      "Iteration 4/10\n",
      "Iteration 5/10\n",
      "Iteration 6/10\n",
      "Iteration 7/10\n",
      "Iteration 8/10\n",
      "Iteration 9/10\n",
      "Iteration 10/10\n",
      "\n",
      "[Random Forest] 모델 평가:\n",
      "--------------------------\n"
     ]
    },
    {
     "name": "stderr",
     "output_type": "stream",
     "text": [
      "c:\\Users\\azamj\\anaconda3\\lib\\site-packages\\sklearn\\metrics\\_classification.py:1509: UndefinedMetricWarning: Precision is ill-defined and being set to 0.0 in labels with no predicted samples. Use `zero_division` parameter to control this behavior.\n",
      "  _warn_prf(average, modifier, f\"{metric.capitalize()} is\", len(result))\n"
     ]
    },
    {
     "name": "stdout",
     "output_type": "stream",
     "text": [
      "\n",
      "[Decision Tree] 모델 평가:\n",
      "--------------------------\n",
      "\n",
      "[SVM] 모델 평가:\n",
      "--------------------------\n"
     ]
    },
    {
     "name": "stderr",
     "output_type": "stream",
     "text": [
      "c:\\Users\\azamj\\anaconda3\\lib\\site-packages\\sklearn\\metrics\\_classification.py:1509: UndefinedMetricWarning: Precision is ill-defined and being set to 0.0 in labels with no predicted samples. Use `zero_division` parameter to control this behavior.\n",
      "  _warn_prf(average, modifier, f\"{metric.capitalize()} is\", len(result))\n"
     ]
    },
    {
     "name": "stdout",
     "output_type": "stream",
     "text": [
      "\n",
      "[MLP] 모델 평가:\n",
      "--------------------------\n",
      "\n",
      "[w08chronic_i] 열을 예측:\n",
      "==================================\n",
      "Iteration 1/10\n",
      "Iteration 2/10\n",
      "Iteration 3/10\n",
      "Iteration 4/10\n",
      "Iteration 5/10\n",
      "Iteration 6/10\n",
      "Iteration 7/10\n",
      "Iteration 8/10\n",
      "Iteration 9/10\n",
      "Iteration 10/10\n",
      "\n",
      "[Random Forest] 모델 평가:\n",
      "--------------------------\n",
      "\n",
      "[Decision Tree] 모델 평가:\n",
      "--------------------------\n",
      "\n",
      "[SVM] 모델 평가:\n",
      "--------------------------\n",
      "\n",
      "[MLP] 모델 평가:\n",
      "--------------------------\n",
      "\n",
      "[w08chronic_k] 열을 예측:\n",
      "==================================\n",
      "Iteration 1/10\n",
      "Iteration 2/10\n",
      "Iteration 3/10\n",
      "Iteration 4/10\n",
      "Iteration 5/10\n",
      "Iteration 6/10\n",
      "Iteration 7/10\n",
      "Iteration 8/10\n",
      "Iteration 9/10\n",
      "Iteration 10/10\n",
      "\n",
      "[Random Forest] 모델 평가:\n",
      "--------------------------\n"
     ]
    },
    {
     "name": "stderr",
     "output_type": "stream",
     "text": [
      "c:\\Users\\azamj\\anaconda3\\lib\\site-packages\\sklearn\\metrics\\_classification.py:1509: UndefinedMetricWarning: Precision is ill-defined and being set to 0.0 in labels with no predicted samples. Use `zero_division` parameter to control this behavior.\n",
      "  _warn_prf(average, modifier, f\"{metric.capitalize()} is\", len(result))\n"
     ]
    },
    {
     "name": "stdout",
     "output_type": "stream",
     "text": [
      "\n",
      "[Decision Tree] 모델 평가:\n",
      "--------------------------\n",
      "\n",
      "[SVM] 모델 평가:\n",
      "--------------------------\n"
     ]
    },
    {
     "name": "stderr",
     "output_type": "stream",
     "text": [
      "c:\\Users\\azamj\\anaconda3\\lib\\site-packages\\sklearn\\metrics\\_classification.py:1509: UndefinedMetricWarning: Precision is ill-defined and being set to 0.0 in labels with no predicted samples. Use `zero_division` parameter to control this behavior.\n",
      "  _warn_prf(average, modifier, f\"{metric.capitalize()} is\", len(result))\n"
     ]
    },
    {
     "name": "stdout",
     "output_type": "stream",
     "text": [
      "\n",
      "[MLP] 모델 평가:\n",
      "--------------------------\n",
      "\n",
      "[w08chronic_l] 열을 예측:\n",
      "==================================\n",
      "Iteration 1/10\n",
      "Iteration 2/10\n",
      "Iteration 3/10\n",
      "Iteration 4/10\n",
      "Iteration 5/10\n",
      "Iteration 6/10\n",
      "Iteration 7/10\n",
      "Iteration 8/10\n",
      "Iteration 9/10\n",
      "Iteration 10/10\n",
      "\n",
      "[Random Forest] 모델 평가:\n",
      "--------------------------\n"
     ]
    },
    {
     "name": "stderr",
     "output_type": "stream",
     "text": [
      "c:\\Users\\azamj\\anaconda3\\lib\\site-packages\\sklearn\\metrics\\_classification.py:1509: UndefinedMetricWarning: Precision is ill-defined and being set to 0.0 in labels with no predicted samples. Use `zero_division` parameter to control this behavior.\n",
      "  _warn_prf(average, modifier, f\"{metric.capitalize()} is\", len(result))\n"
     ]
    },
    {
     "name": "stdout",
     "output_type": "stream",
     "text": [
      "\n",
      "[Decision Tree] 모델 평가:\n",
      "--------------------------\n",
      "\n",
      "[SVM] 모델 평가:\n",
      "--------------------------\n"
     ]
    },
    {
     "name": "stderr",
     "output_type": "stream",
     "text": [
      "c:\\Users\\azamj\\anaconda3\\lib\\site-packages\\sklearn\\metrics\\_classification.py:1509: UndefinedMetricWarning: Precision is ill-defined and being set to 0.0 in labels with no predicted samples. Use `zero_division` parameter to control this behavior.\n",
      "  _warn_prf(average, modifier, f\"{metric.capitalize()} is\", len(result))\n"
     ]
    },
    {
     "name": "stdout",
     "output_type": "stream",
     "text": [
      "\n",
      "[MLP] 모델 평가:\n",
      "--------------------------\n"
     ]
    },
    {
     "name": "stderr",
     "output_type": "stream",
     "text": [
      "c:\\Users\\azamj\\anaconda3\\lib\\site-packages\\sklearn\\metrics\\_classification.py:1509: UndefinedMetricWarning: Precision is ill-defined and being set to 0.0 in labels with no predicted samples. Use `zero_division` parameter to control this behavior.\n",
      "  _warn_prf(average, modifier, f\"{metric.capitalize()} is\", len(result))\n"
     ]
    },
    {
     "name": "stdout",
     "output_type": "stream",
     "text": [
      "\n",
      "[w08chronic_m] 열을 예측:\n",
      "==================================\n",
      "Iteration 1/10\n",
      "Iteration 2/10\n",
      "Iteration 3/10\n",
      "Iteration 4/10\n",
      "Iteration 5/10\n",
      "Iteration 6/10\n",
      "Iteration 7/10\n",
      "Iteration 8/10\n",
      "Iteration 9/10\n",
      "Iteration 10/10\n",
      "\n",
      "[Random Forest] 모델 평가:\n",
      "--------------------------\n",
      "\n",
      "[Decision Tree] 모델 평가:\n",
      "--------------------------\n",
      "\n",
      "[SVM] 모델 평가:\n",
      "--------------------------\n"
     ]
    },
    {
     "name": "stderr",
     "output_type": "stream",
     "text": [
      "c:\\Users\\azamj\\anaconda3\\lib\\site-packages\\sklearn\\metrics\\_classification.py:1509: UndefinedMetricWarning: Precision is ill-defined and being set to 0.0 in labels with no predicted samples. Use `zero_division` parameter to control this behavior.\n",
      "  _warn_prf(average, modifier, f\"{metric.capitalize()} is\", len(result))\n"
     ]
    },
    {
     "name": "stdout",
     "output_type": "stream",
     "text": [
      "\n",
      "[MLP] 모델 평가:\n",
      "--------------------------\n"
     ]
    }
   ],
   "source": [
    "# 8. 각 타겟 열을 사용한 학습 및 평가\n",
    "for target_column in columns:\n",
    "    print(f'\\n[{target_column}] 열을 예측:')\n",
    "    print('==================================')\n",
    "\n",
    "    y = cleaned_data[target_column].values\n",
    "\n",
    "    # 데이터 나누기\n",
    "    X_train, X_test, y_train, y_test = train_test_split(X_scaled, y, test_size=0.2, random_state=42)\n",
    "\n",
    "    # 9. Harmony Search를 사용한 피처 선택\n",
    "    best_harmony = run_harmony_search()\n",
    "    selected_features = [i for i, bit in enumerate(best_harmony) if bit]\n",
    "\n",
    "    if len(selected_features) == 0:\n",
    "        print(f'선택된 피처가 없습니다. {target_column} 열에 대한 평가를 건너뜁니다.')\n",
    "        continue\n",
    "\n",
    "    X_train_selected = X_train[:, selected_features]\n",
    "    X_test_selected = X_test[:, selected_features]\n",
    "\n",
    "    # 타겟 클래스가 두 개 이상이면 AUC 계산을 위해 타겟을 이진화 (One-vs-Rest 방식)\n",
    "    y_test_bin = label_binarize(y_test, classes=np.unique(y))\n",
    "    if y_test_bin.shape[1] == 1:  # 클래스가 하나인 경우\n",
    "        y_test_bin = np.concatenate([1 - y_test_bin, y_test_bin], axis=1)\n",
    "\n",
    "    # 10. 각 모델에 대해 학습 및 평가\n",
    "    for model_name, model in models.items():\n",
    "        print(f'\\n[{model_name}] 모델 평가:')\n",
    "        print('--------------------------')\n",
    "\n",
    "        try:\n",
    "            # 모델 학습\n",
    "            model.fit(X_train_selected, y_train)\n",
    "\n",
    "            # 예측\n",
    "            y_pred = model.predict(X_test_selected)\n",
    "            \n",
    "            # 확률 예측 값이 있는 경우\n",
    "            if hasattr(model, \"predict_proba\"):\n",
    "                y_pred_proba = model.predict_proba(X_test_selected)\n",
    "            else:\n",
    "                y_pred_proba = np.zeros((len(y_test), len(np.unique(y_test))))  # 확률 값을 지원하지 않는 모델에 대한 처리\n",
    "\n",
    "            # 정확도 계산\n",
    "            accuracy = accuracy_score(y_test, y_pred)\n",
    "\n",
    "            # precision, recall, f1-score 계산 (weighted average)\n",
    "            precision, recall, f1, _ = precision_recall_fscore_support(y_test, y_pred, average='weighted')\n",
    "\n",
    "            # Micro, Macro, Weighted F1 계산\n",
    "            micro_f1 = f1_score(y_test, y_pred, average='micro')\n",
    "            macro_f1 = f1_score(y_test, y_pred, average='macro')\n",
    "            weighted_f1 = f1_score(y_test, y_pred, average='weighted')\n",
    "\n",
    "            # AUC 계산\n",
    "            try:\n",
    "                auc = roc_auc_score(y_test_bin, y_pred_proba, multi_class=\"ovr\", average='weighted')\n",
    "            except ValueError:\n",
    "                auc = np.nan\n",
    "\n",
    "            # 결과 추가\n",
    "            new_row = pd.DataFrame({\n",
    "                'Model': [model_name],\n",
    "                'Target': [target_column],\n",
    "                'Precision': [precision],\n",
    "                'Recall': [recall],\n",
    "                'F1-Score': [f1],\n",
    "                'Accuracy': [accuracy],\n",
    "                'Micro F1': [micro_f1],\n",
    "                'Macro F1': [macro_f1],\n",
    "                'Weighted F1': [weighted_f1],\n",
    "                'AUC': [auc]\n",
    "            })\n",
    "            result_table = pd.concat([result_table, new_row], ignore_index=True)\n",
    "        except Exception as e:\n",
    "            print(f\"{model_name} 모델에서 오류 발생: {e}\")\n",
    "            continue"
   ]
  },
  {
   "cell_type": "code",
   "execution_count": 36,
   "metadata": {},
   "outputs": [
    {
     "name": "stdout",
     "output_type": "stream",
     "text": [
      "\n",
      "전체 모델 평가 결과:\n",
      "          Target          Model  Precision    Recall  F1-Score  Accuracy  \\\n",
      "0   w08chronic_a  Random Forest   0.758605  0.736203  0.732758  0.736203   \n",
      "1   w08chronic_a  Decision Tree   0.658247  0.657837  0.657962  0.657837   \n",
      "2   w08chronic_a            SVM   0.761112  0.721854  0.714419  0.721854   \n",
      "3   w08chronic_a            MLP   0.676897  0.675497  0.675641  0.675497   \n",
      "4   w08chronic_b  Random Forest   0.684070  0.762693  0.684064  0.762693   \n",
      "5   w08chronic_b  Decision Tree   0.696383  0.695364  0.695871  0.695364   \n",
      "6   w08chronic_b            SVM   0.591847  0.769316  0.669012  0.769316   \n",
      "7   w08chronic_b            MLP   0.674178  0.687638  0.680454  0.687638   \n",
      "8   w08chronic_c  Random Forest   0.859611  0.927152  0.892105  0.927152   \n",
      "9   w08chronic_c  Decision Tree   0.862684  0.817881  0.839169  0.817881   \n",
      "10  w08chronic_c            SVM   0.859611  0.927152  0.892105  0.927152   \n",
      "11  w08chronic_c            MLP   0.873172  0.886313  0.879529  0.886313   \n",
      "12  w08chronic_d  Random Forest   0.941285  0.970199  0.955523  0.970199   \n",
      "13  w08chronic_d  Decision Tree   0.942147  0.934879  0.938485  0.934879   \n",
      "14  w08chronic_d            SVM   0.941285  0.970199  0.955523  0.970199   \n",
      "15  w08chronic_d            MLP   0.947138  0.965784  0.955099  0.965784   \n",
      "16  w08chronic_e  Random Forest   0.943428  0.971302  0.957163  0.971302   \n",
      "17  w08chronic_e  Decision Tree   0.941557  0.908389  0.924675  0.908389   \n",
      "18  w08chronic_e            SVM   0.943428  0.971302  0.957163  0.971302   \n",
      "19  w08chronic_e            MLP   0.943243  0.964680  0.953841  0.964680   \n",
      "20  w08chronic_f  Random Forest   0.799307  0.894040  0.844024  0.894040   \n",
      "21  w08chronic_f  Decision Tree   0.831240  0.817881  0.824322  0.817881   \n",
      "22  w08chronic_f            SVM   0.799307  0.894040  0.844024  0.894040   \n",
      "23  w08chronic_f            MLP   0.823253  0.860927  0.839749  0.860927   \n",
      "24  w08chronic_g  Random Forest   0.949830  0.947020  0.922311  0.947020   \n",
      "25  w08chronic_g  Decision Tree   0.908759  0.896247  0.902305  0.896247   \n",
      "26  w08chronic_g            SVM   0.894757  0.945916  0.919626  0.945916   \n",
      "27  w08chronic_g            MLP   0.905930  0.932671  0.917693  0.932671   \n",
      "28  w08chronic_h  Random Forest   0.903129  0.950331  0.926129  0.950331   \n",
      "29  w08chronic_h  Decision Tree   0.906570  0.900662  0.903593  0.900662   \n",
      "30  w08chronic_h            SVM   0.903129  0.950331  0.926129  0.950331   \n",
      "31  w08chronic_h            MLP   0.913856  0.947020  0.926429  0.947020   \n",
      "32  w08chronic_i  Random Forest   0.755614  0.770419  0.746972  0.770419   \n",
      "33  w08chronic_i  Decision Tree   0.689225  0.697572  0.692911  0.697572   \n",
      "34  w08chronic_i            SVM   0.740553  0.757174  0.721281  0.757174   \n",
      "35  w08chronic_i            MLP   0.716879  0.731788  0.721631  0.731788   \n",
      "36  w08chronic_k  Random Forest   0.971508  0.985651  0.978529  0.985651   \n",
      "37  w08chronic_k  Decision Tree   0.971189  0.963576  0.967368  0.963576   \n",
      "38  w08chronic_k            SVM   0.971508  0.985651  0.978529  0.985651   \n",
      "39  w08chronic_k            MLP   0.971493  0.984547  0.977977  0.984547   \n",
      "40  w08chronic_l  Random Forest   0.973685  0.986755  0.980177  0.986755   \n",
      "41  w08chronic_l  Decision Tree   0.974964  0.961369  0.968014  0.961369   \n",
      "42  w08chronic_l            SVM   0.973685  0.986755  0.980177  0.986755   \n",
      "43  w08chronic_l            MLP   0.973685  0.986755  0.980177  0.986755   \n",
      "44  w08chronic_m  Random Forest   0.992333  0.992274  0.989284  0.992274   \n",
      "45  w08chronic_m  Decision Tree   0.984309  0.982340  0.983311  0.982340   \n",
      "46  w08chronic_m            SVM   0.982418  0.991170  0.986775  0.991170   \n",
      "47  w08chronic_m            MLP   0.988992  0.991170  0.989708  0.991170   \n",
      "\n",
      "    Micro F1  Macro F1  Weighted F1       AUC  \n",
      "0   0.736203  0.733861     0.732758  0.778450  \n",
      "1   0.657837  0.657461     0.657962  0.657657  \n",
      "2   0.721854  0.716189     0.714419  0.759395  \n",
      "3   0.675497  0.675419     0.675641  0.720447  \n",
      "4   0.762693  0.474386     0.684064  0.716869  \n",
      "5   0.695364  0.572291     0.695871  0.572536  \n",
      "6   0.769316  0.434810     0.669012  0.642768  \n",
      "7   0.687638  0.540231     0.680454  0.608177  \n",
      "8   0.927152  0.481100     0.892105  0.643452  \n",
      "9   0.817881  0.488586     0.839169  0.489935  \n",
      "10  0.927152  0.481100     0.892105  0.607792  \n",
      "11  0.886313  0.529446     0.879529  0.576263  \n",
      "12  0.970199  0.492437     0.955523  0.634243  \n",
      "13  0.934879  0.499546     0.938485  0.499747  \n",
      "14  0.970199  0.492437     0.955523  0.557410  \n",
      "15  0.965784  0.521590     0.955099  0.554713  \n",
      "16  0.971302  0.492721     0.957163  0.548317  \n",
      "17  0.908389  0.475998     0.924675  0.467614  \n",
      "18  0.971302  0.492721     0.957163  0.520236  \n",
      "19  0.964680  0.491011     0.953841  0.545061  \n",
      "20  0.894040  0.472028     0.844024  0.655736  \n",
      "21  0.817881  0.553797     0.824322  0.558410  \n",
      "22  0.894040  0.472028     0.844024  0.586806  \n",
      "23  0.860927  0.524730     0.839749  0.562796  \n",
      "24  0.947020  0.506379     0.922311  0.712619  \n",
      "25  0.896247  0.552710     0.902305  0.560331  \n",
      "26  0.945916  0.486103     0.919626  0.704070  \n",
      "27  0.932671  0.527298     0.917693  0.675779  \n",
      "28  0.950331  0.487267     0.926129  0.633940  \n",
      "29  0.900662  0.505026     0.903593  0.505459  \n",
      "30  0.950331  0.487267     0.926129  0.608104  \n",
      "31  0.947020  0.506379     0.926429  0.585314  \n",
      "32  0.770419  0.666346     0.746972  0.800606  \n",
      "33  0.697572  0.616777     0.692911  0.613815  \n",
      "34  0.757174  0.624910     0.721281  0.761177  \n",
      "35  0.731788  0.646509     0.721631  0.722213  \n",
      "36  0.985651  0.496387     0.978529  0.651219  \n",
      "37  0.963576  0.490725     0.967368  0.488802  \n",
      "38  0.985651  0.496387     0.978529  0.589887  \n",
      "39  0.984547  0.496107     0.977977  0.574899  \n",
      "40  0.986755  0.496667     0.980177  0.828812  \n",
      "41  0.961369  0.517168     0.968014  0.528244  \n",
      "42  0.986755  0.496667     0.980177  0.673192  \n",
      "43  0.986755  0.496667     0.980177  0.770507  \n",
      "44  0.992274  0.609170     0.989284  0.842219  \n",
      "45  0.982340  0.551096     0.983311  0.557489  \n",
      "46  0.991170  0.497783     0.986775  0.887528  \n",
      "47  0.991170  0.664444     0.989708  0.918987  \n"
     ]
    }
   ],
   "source": [
    "# 11. 결과 테이블 출력\n",
    "print(\"\\n전체 모델 평가 결과:\")\n",
    "print(result_table)"
   ]
  }
 ],
 "metadata": {
  "kernelspec": {
   "display_name": "base",
   "language": "python",
   "name": "python3"
  },
  "language_info": {
   "codemirror_mode": {
    "name": "ipython",
    "version": 3
   },
   "file_extension": ".py",
   "mimetype": "text/x-python",
   "name": "python",
   "nbconvert_exporter": "python",
   "pygments_lexer": "ipython3",
   "version": "3.9.13"
  }
 },
 "nbformat": 4,
 "nbformat_minor": 2
}
