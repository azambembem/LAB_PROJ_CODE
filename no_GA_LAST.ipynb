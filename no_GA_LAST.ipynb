{
 "cells": [
  {
   "cell_type": "code",
   "execution_count": 1,
   "metadata": {},
   "outputs": [],
   "source": [
    "import pandas as pd\n",
    "import numpy as np\n",
    "from sklearn.model_selection import train_test_split, KFold, cross_val_predict\n",
    "from sklearn.preprocessing import StandardScaler\n",
    "from sklearn.ensemble import RandomForestClassifier\n",
    "from sklearn.tree import DecisionTreeClassifier\n",
    "from sklearn.multioutput import MultiOutputClassifier\n",
    "from sklearn.metrics import accuracy_score, f1_score, precision_recall_fscore_support\n"
   ]
  },
  {
   "cell_type": "code",
   "execution_count": 2,
   "metadata": {},
   "outputs": [],
   "source": [
    "    # 1. 데이터 불러오기\n",
    "data = pd.read_csv('azdigar nav sartirovka+0 delete.csv')"
   ]
  },
  {
   "cell_type": "code",
   "execution_count": 3,
   "metadata": {},
   "outputs": [],
   "source": [
    "columns = [\n",
    "    ('w08chronic_a', '고혈압'), \n",
    "    ('w08chronic_b', '당뇨병'),\n",
    "    ('w08chronic_c', '암 및 악성종양'),\n",
    "    ('w08chronic_d', '만성 폐질환'),\n",
    "    ('w08chronic_e', '간질환'),\n",
    "    ('w08chronic_f', '심장질환'),\n",
    "    ('w08chronic_g', '뇌혈관질환'),\n",
    "    ('w08chronic_h', '정신과적 질환'),\n",
    "    ('w08chronic_i', '관절염 또는 류마티스'),\n",
    "    ('w08chronic_k', '소화기계 질환'),\n",
    "    ('w08chronic_l', '디스크 진단'),\n",
    "    ('w08chronic_m', '지매')\n",
    "\n",
    "]\n"
   ]
  },
  {
   "cell_type": "code",
   "execution_count": 4,
   "metadata": {},
   "outputs": [],
   "source": [
    "# Target 컬럼명만 추출\n",
    "target_columns = [col[0] for col in columns]"
   ]
  },
  {
   "cell_type": "code",
   "execution_count": 5,
   "metadata": {},
   "outputs": [],
   "source": [
    "# 3. 데이터 클리닝 - 'w08chronic_m'에서 값이 3인 행 제거\n",
    "cleaned_data = data[data['w08chronic_m'] != 3]\n"
   ]
  },
  {
   "cell_type": "code",
   "execution_count": 6,
   "metadata": {},
   "outputs": [],
   "source": [
    "# # 4. 인코딩 처리 (1 -> 0 (no), 5 -> 1 (yes))\n",
    "# cleaned_data[target_columns] = cleaned_data[target_columns].replace({1: 0, 5: 1})\n"
   ]
  },
  {
   "cell_type": "code",
   "execution_count": 7,
   "metadata": {},
   "outputs": [],
   "source": [
    "# 5. 피처와 타겟 정의\n",
    "X = cleaned_data.drop(columns=target_columns)\n",
    "y_all = cleaned_data[target_columns]"
   ]
  },
  {
   "cell_type": "code",
   "execution_count": 8,
   "metadata": {},
   "outputs": [],
   "source": [
    "# 6. 데이터 스케일링\n",
    "scaler = StandardScaler()\n",
    "X_scaled = scaler.fit_transform(X)\n"
   ]
  },
  {
   "cell_type": "code",
   "execution_count": 9,
   "metadata": {},
   "outputs": [],
   "source": [
    "y = np.array(y_all.values)\n",
    "y_binarized = np.where(y==5, 1, 0)"
   ]
  },
  {
   "cell_type": "code",
   "execution_count": 10,
   "metadata": {},
   "outputs": [],
   "source": [
    "# # 7. KFold 교차 검증 설정\n",
    "# kf = KFold(n_splits=5, shuffle=True, random_state=42)\n",
    "\n",
    "# 6. 결과 저장을 위한 빈 데이터프레임 생성\n",
    "result_table = pd.DataFrame(columns=[\n",
    "    'Target', 'Model', 'Precision', 'Recall', 'F1-Score',\n",
    "    'Accuracy'\n",
    "])\n",
    "\n",
    "# 전체 타겟에 대한 예측 결과를 저장할 리스트를 미리 선언\n",
    "all_y_test = []\n",
    "all_y_pred = []\n",
    "\n",
    "# 7. 각 타겟 열을 사용한 학습 및 평가\n",
    "\n",
    "# 데이터 나누기\n",
    "X_train, X_test, y_train, y_test = train_test_split(X_scaled, y_binarized, test_size=0.2, random_state=42)\n",
    "\n"
   ]
  },
  {
   "cell_type": "code",
   "execution_count": 11,
   "metadata": {},
   "outputs": [
    {
     "name": "stdout",
     "output_type": "stream",
     "text": [
      "\n",
      "전체 모델 평가 결과:\n",
      "                         Target          Model  Precision    Recall  F1-Score  \\\n",
      "0           (w08chronic_a, 고혈압)  Random Forest   0.796247  0.627907  0.702128   \n",
      "1           (w08chronic_b, 당뇨병)  Random Forest   0.772067  0.991392  0.868090   \n",
      "2      (w08chronic_c, 암 및 악성종양)  Random Forest   0.927152  1.000000  0.962199   \n",
      "3        (w08chronic_d, 만성 폐질환)  Random Forest   0.970199  1.000000  0.984874   \n",
      "4           (w08chronic_e, 간질환)  Random Forest   0.971302  1.000000  0.985442   \n",
      "5          (w08chronic_f, 심장질환)  Random Forest   0.894040  1.000000  0.944056   \n",
      "6         (w08chronic_g, 뇌혈관질환)  Random Forest   0.945856  0.998833  0.971623   \n",
      "7       (w08chronic_h, 정신과적 질환)  Random Forest   0.950331  1.000000  0.974533   \n",
      "8   (w08chronic_i, 관절염 또는 류마티스)  Random Forest   0.790026  0.927581  0.853296   \n",
      "9       (w08chronic_k, 소화기계 질환)  Random Forest   0.985651  1.000000  0.992774   \n",
      "10       (w08chronic_l, 디스크 진단)  Random Forest   0.986755  1.000000  0.993333   \n",
      "11           (w08chronic_m, 지매)  Random Forest   0.991170  1.000000  0.995565   \n",
      "\n",
      "    Accuracy  \n",
      "0   0.721854  \n",
      "1   0.768212  \n",
      "2   0.927152  \n",
      "3   0.970199  \n",
      "4   0.971302  \n",
      "5   0.894040  \n",
      "6   0.944812  \n",
      "7   0.950331  \n",
      "8   0.771523  \n",
      "9   0.985651  \n",
      "10  0.986755  \n",
      "11  0.991170  \n"
     ]
    }
   ],
   "source": [
    "# # 8. 모델 정의\n",
    "# random_forest = MultiOutputClassifier(RandomForestClassifier(random_state=42))\n",
    "# decision_tree = MultiOutputClassifier(DecisionTreeClassifier(random_state=42))\n",
    "\n",
    "# 모델 정의\n",
    "rf = RandomForestClassifier(n_estimators=100, random_state=42)\n",
    "multi_target_rf = MultiOutputClassifier(rf, n_jobs=-1)\n",
    "\n",
    "\n",
    "\n",
    " # 모델 학습\n",
    "multi_target_rf.fit(X_train, y_train)\n",
    "\n",
    "# 예측\n",
    "y_pred = multi_target_rf.predict(X_test)\n",
    "\n",
    "for idx, target_column in enumerate(columns):\n",
    "    # 각 열(클래스)에 대해 예측 값과 실제 값을 비교하여 성능 측정\n",
    "    accuracy = accuracy_score(y_test[:, idx], y_pred[:, idx])\n",
    "    precision, recall, f1, _ = precision_recall_fscore_support(y_test[:, idx], y_pred[:, idx], average='binary')\n",
    "\n",
    "    new_row = pd.DataFrame({\n",
    "        'Model': ['Random Forest'],\n",
    "        'Target': [target_column],\n",
    "        'Precision': [precision],\n",
    "        'Recall': [recall],\n",
    "        'F1-Score': [f1],\n",
    "        'Accuracy': [accuracy],\n",
    "    })\n",
    "    result_table = pd.concat([result_table, new_row], ignore_index=True)\n",
    "\n",
    "# 결과 테이블 출력\n",
    "print(\"\\n전체 모델 평가 결과:\")\n",
    "print(result_table)\n"
   ]
  },
  {
   "cell_type": "code",
   "execution_count": 13,
   "metadata": {},
   "outputs": [
    {
     "name": "stdout",
     "output_type": "stream",
     "text": [
      "\n",
      "전체 타겟에 대한 평균 정확도: 0.90691685062546\n",
      "\n",
      "전체 타겟에 대한 종합 Micro F1 점수: 0.9069168506254599\n",
      "\n",
      "전체 타겟에 대한 종합 Macro F1 점수: 0.7122863354586253\n",
      "\n",
      "전체 타겟에 대한 종합 Weighted F1 점수: 0.8949020838649931\n"
     ]
    }
   ],
   "source": [
    "# 전체 타겟에 대한 종합 F1 계산을 위해 모든 예측과 실제값을 한 열로 병합\n",
    "all_y_test = np.concatenate([y_test[:, idx] for idx in range(y_test.shape[1])], axis=0)\n",
    "all_y_pred = np.concatenate([y_pred[:, idx] for idx in range(y_pred.shape[1])], axis=0)\n",
    "\n",
    "# 전체 타겟에 대한 평균 정확도 계산\n",
    "average_accuracy = result_table['Accuracy'].mean()\n",
    "print(f\"\\n전체 타겟에 대한 평균 정확도: {average_accuracy}\")\n",
    "\n",
    "# overall_accuracy = np.mean(np.all(y_test == y_pred, axis=1))\n",
    "# print(f\"\\n전체 타겟에 대한 종합 정확도: {overall_accuracy}\")\n",
    "overall_micro_f1 = f1_score(all_y_test, all_y_pred, average='micro')\n",
    "print(f\"\\n전체 타겟에 대한 종합 Micro F1 점수: {overall_micro_f1}\")\n",
    "overall_macro_f1 = f1_score(all_y_test, all_y_pred, average='macro')\n",
    "print(f\"\\n전체 타겟에 대한 종합 Macro F1 점수: {overall_macro_f1}\")\n",
    "overall_weighted_f1 = f1_score(all_y_test, all_y_pred, average='weighted')\n",
    "print(f\"\\n전체 타겟에 대한 종합 Weighted F1 점수: {overall_weighted_f1}\")\n"
   ]
  }
 ],
 "metadata": {
  "kernelspec": {
   "display_name": "base",
   "language": "python",
   "name": "python3"
  },
  "language_info": {
   "codemirror_mode": {
    "name": "ipython",
    "version": 3
   },
   "file_extension": ".py",
   "mimetype": "text/x-python",
   "name": "python",
   "nbconvert_exporter": "python",
   "pygments_lexer": "ipython3",
   "version": "3.9.13"
  }
 },
 "nbformat": 4,
 "nbformat_minor": 2
}
