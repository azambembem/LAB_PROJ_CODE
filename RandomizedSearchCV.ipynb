{
 "cells": [
  {
   "cell_type": "code",
   "execution_count": 35,
   "metadata": {},
   "outputs": [],
   "source": [
    "import pandas as pd\n",
    "import numpy as np\n",
    "from sklearn.model_selection import train_test_split,RandomizedSearchCV\n",
    "from sklearn.preprocessing import StandardScaler\n",
    "from sklearn.ensemble import RandomForestClassifier\n",
    "from sklearn.tree import DecisionTreeClassifier\n",
    "from sklearn.svm import SVC\n",
    "from sklearn.neural_network import MLPClassifier\n",
    "from sklearn.metrics import accuracy_score, f1_score, roc_auc_score, precision_recall_fscore_support\n",
    "from sklearn.preprocessing import label_binarize\n",
    "from sklearn.feature_selection import SelectKBest, f_classif  # f_classif 사용\n",
    "from scipy.stats import randint as sp_randint"
   ]
  },
  {
   "cell_type": "code",
   "execution_count": 36,
   "metadata": {},
   "outputs": [],
   "source": [
    "# 1. 데이터 불러오기\n",
    "data = pd.read_csv('azdigar nav sartirovka+0 delete.csv')\n"
   ]
  },
  {
   "cell_type": "code",
   "execution_count": 37,
   "metadata": {},
   "outputs": [],
   "source": [
    "# 분석할 열들\n",
    "columns = [\n",
    "    'w08chronic_a', 'w08chronic_b', 'w08chronic_c',\n",
    "    'w08chronic_d', 'w08chronic_e', 'w08chronic_f',\n",
    "    'w08chronic_g', 'w08chronic_h', 'w08chronic_i',\n",
    "    'w08chronic_k', 'w08chronic_l', 'w08chronic_m'\n",
    "]"
   ]
  },
  {
   "cell_type": "code",
   "execution_count": 38,
   "metadata": {},
   "outputs": [],
   "source": [
    "# 2. 데이터 클리닝 - 'w08chronic_m'에서 값이 3인 행 제거\n",
    "cleaned_data = data[data['w08chronic_m'] != 3]"
   ]
  },
  {
   "cell_type": "code",
   "execution_count": 39,
   "metadata": {},
   "outputs": [],
   "source": [
    "# 3. 피처 데이터 정의 (모든 chronic 컬럼 제외)\n",
    "X = cleaned_data.drop(columns=columns)\n",
    "y_all = cleaned_data[columns]\n"
   ]
  },
  {
   "cell_type": "code",
   "execution_count": 40,
   "metadata": {},
   "outputs": [],
   "source": [
    "# 4. 데이터 스케일링\n",
    "scaler = StandardScaler()\n",
    "X_scaled = scaler.fit_transform(X)"
   ]
  },
  {
   "cell_type": "code",
   "execution_count": 41,
   "metadata": {},
   "outputs": [],
   "source": [
    "# 5. 모델 정의 및 파라미터 그리드\n",
    "models = {\n",
    "    'Random Forest': RandomForestClassifier(random_state=42),\n",
    "    'Decision Tree': DecisionTreeClassifier(random_state=42),\n",
    "    'SVM': SVC(probability=True, random_state=42),\n",
    "    'MLP': MLPClassifier(max_iter=2000, random_state=42)\n",
    "}"
   ]
  },
  {
   "cell_type": "code",
   "execution_count": 42,
   "metadata": {},
   "outputs": [],
   "source": [
    "# RandomizedSearchCV를 위한 파라미터 그리드 설정\n",
    "param_grids = {\n",
    "    'Random Forest': {\n",
    "        'n_estimators': sp_randint(50, 150),\n",
    "        'max_depth': sp_randint(5, 15),\n",
    "        'min_samples_split': sp_randint(2, 10),\n",
    "        'min_samples_leaf': sp_randint(1, 5)\n",
    "    },\n",
    "    'Decision Tree': {\n",
    "        'max_depth': sp_randint(3, 15),\n",
    "        'min_samples_split': sp_randint(2, 10),\n",
    "        'min_samples_leaf': sp_randint(1, 5)\n",
    "    },\n",
    "    'SVM': {\n",
    "        'C': [0.1, 1, 10],\n",
    "        'kernel': ['linear', 'rbf'],\n",
    "        'gamma': ['scale', 'auto']\n",
    "    },\n",
    "    'MLP': {\n",
    "        'hidden_layer_sizes': [(50,), (100,), (50, 50)],\n",
    "        'activation': ['tanh', 'relu'],\n",
    "        'solver': ['adam', 'sgd'],\n",
    "        'alpha': [0.0001, 0.001],\n",
    "        'learning_rate': ['constant', 'adaptive']\n",
    "    }\n",
    "}"
   ]
  },
  {
   "cell_type": "code",
   "execution_count": 43,
   "metadata": {},
   "outputs": [],
   "source": [
    "# 6. 결과 저장을 위한 빈 데이터프레임 생성\n",
    "result_table = pd.DataFrame(columns=['Target', 'Model', 'Precision', 'Recall', 'F1-Score', 'Accuracy', 'Micro F1', 'Macro F1', 'Weighted F1', 'AUC'])"
   ]
  },
  {
   "cell_type": "code",
   "execution_count": 44,
   "metadata": {},
   "outputs": [
    {
     "name": "stdout",
     "output_type": "stream",
     "text": [
      "\n",
      "[w08chronic_a] 열을 예측:\n",
      "==================================\n",
      "\n",
      "[Random Forest] 모델 평가:\n",
      "--------------------------\n"
     ]
    },
    {
     "name": "stderr",
     "output_type": "stream",
     "text": [
      "c:\\Users\\azamj\\anaconda3\\lib\\site-packages\\sklearn\\feature_selection\\_univariate_selection.py:112: UserWarning: Features [ 86 120 121 122] are constant.\n",
      "  warnings.warn(\"Features %s are constant.\" % constant_features_idx, UserWarning)\n",
      "c:\\Users\\azamj\\anaconda3\\lib\\site-packages\\sklearn\\feature_selection\\_univariate_selection.py:113: RuntimeWarning: invalid value encountered in divide\n",
      "  f = msb / msw\n"
     ]
    },
    {
     "name": "stdout",
     "output_type": "stream",
     "text": [
      "\n",
      "[Decision Tree] 모델 평가:\n",
      "--------------------------\n",
      "\n",
      "[SVM] 모델 평가:\n",
      "--------------------------\n",
      "\n",
      "[MLP] 모델 평가:\n",
      "--------------------------\n",
      "\n",
      "[w08chronic_b] 열을 예측:\n",
      "==================================\n",
      "\n",
      "[Random Forest] 모델 평가:\n",
      "--------------------------\n"
     ]
    },
    {
     "name": "stderr",
     "output_type": "stream",
     "text": [
      "c:\\Users\\azamj\\anaconda3\\lib\\site-packages\\sklearn\\feature_selection\\_univariate_selection.py:112: UserWarning: Features [ 86 120 121 122] are constant.\n",
      "  warnings.warn(\"Features %s are constant.\" % constant_features_idx, UserWarning)\n",
      "c:\\Users\\azamj\\anaconda3\\lib\\site-packages\\sklearn\\feature_selection\\_univariate_selection.py:113: RuntimeWarning: invalid value encountered in divide\n",
      "  f = msb / msw\n"
     ]
    },
    {
     "name": "stdout",
     "output_type": "stream",
     "text": [
      "\n",
      "[Decision Tree] 모델 평가:\n",
      "--------------------------\n",
      "\n",
      "[SVM] 모델 평가:\n",
      "--------------------------\n",
      "\n",
      "[MLP] 모델 평가:\n",
      "--------------------------\n",
      "\n",
      "[w08chronic_c] 열을 예측:\n",
      "==================================\n",
      "\n",
      "[Random Forest] 모델 평가:\n",
      "--------------------------\n"
     ]
    },
    {
     "name": "stderr",
     "output_type": "stream",
     "text": [
      "c:\\Users\\azamj\\anaconda3\\lib\\site-packages\\sklearn\\feature_selection\\_univariate_selection.py:112: UserWarning: Features [ 86 120 121 122] are constant.\n",
      "  warnings.warn(\"Features %s are constant.\" % constant_features_idx, UserWarning)\n",
      "c:\\Users\\azamj\\anaconda3\\lib\\site-packages\\sklearn\\feature_selection\\_univariate_selection.py:113: RuntimeWarning: invalid value encountered in divide\n",
      "  f = msb / msw\n"
     ]
    },
    {
     "name": "stdout",
     "output_type": "stream",
     "text": [
      "\n",
      "[Decision Tree] 모델 평가:\n",
      "--------------------------\n",
      "\n",
      "[SVM] 모델 평가:\n",
      "--------------------------\n"
     ]
    },
    {
     "name": "stderr",
     "output_type": "stream",
     "text": [
      "c:\\Users\\azamj\\anaconda3\\lib\\site-packages\\sklearn\\metrics\\_classification.py:1509: UndefinedMetricWarning: Precision is ill-defined and being set to 0.0 in labels with no predicted samples. Use `zero_division` parameter to control this behavior.\n",
      "  _warn_prf(average, modifier, f\"{metric.capitalize()} is\", len(result))\n"
     ]
    },
    {
     "name": "stdout",
     "output_type": "stream",
     "text": [
      "\n",
      "[MLP] 모델 평가:\n",
      "--------------------------\n",
      "\n",
      "[w08chronic_d] 열을 예측:\n",
      "==================================\n",
      "\n",
      "[Random Forest] 모델 평가:\n",
      "--------------------------\n"
     ]
    },
    {
     "name": "stderr",
     "output_type": "stream",
     "text": [
      "c:\\Users\\azamj\\anaconda3\\lib\\site-packages\\sklearn\\feature_selection\\_univariate_selection.py:112: UserWarning: Features [ 86 120 121 122] are constant.\n",
      "  warnings.warn(\"Features %s are constant.\" % constant_features_idx, UserWarning)\n",
      "c:\\Users\\azamj\\anaconda3\\lib\\site-packages\\sklearn\\feature_selection\\_univariate_selection.py:113: RuntimeWarning: invalid value encountered in divide\n",
      "  f = msb / msw\n",
      "c:\\Users\\azamj\\anaconda3\\lib\\site-packages\\sklearn\\metrics\\_classification.py:1509: UndefinedMetricWarning: Precision is ill-defined and being set to 0.0 in labels with no predicted samples. Use `zero_division` parameter to control this behavior.\n",
      "  _warn_prf(average, modifier, f\"{metric.capitalize()} is\", len(result))\n",
      "c:\\Users\\azamj\\anaconda3\\lib\\site-packages\\sklearn\\metrics\\_classification.py:1509: UndefinedMetricWarning: Precision is ill-defined and being set to 0.0 in labels with no predicted samples. Use `zero_division` parameter to control this behavior.\n",
      "  _warn_prf(average, modifier, f\"{metric.capitalize()} is\", len(result))\n"
     ]
    },
    {
     "name": "stdout",
     "output_type": "stream",
     "text": [
      "\n",
      "[Decision Tree] 모델 평가:\n",
      "--------------------------\n",
      "\n",
      "[SVM] 모델 평가:\n",
      "--------------------------\n",
      "\n",
      "[MLP] 모델 평가:\n",
      "--------------------------\n"
     ]
    },
    {
     "name": "stderr",
     "output_type": "stream",
     "text": [
      "c:\\Users\\azamj\\anaconda3\\lib\\site-packages\\sklearn\\metrics\\_classification.py:1509: UndefinedMetricWarning: Precision is ill-defined and being set to 0.0 in labels with no predicted samples. Use `zero_division` parameter to control this behavior.\n",
      "  _warn_prf(average, modifier, f\"{metric.capitalize()} is\", len(result))\n",
      "c:\\Users\\azamj\\anaconda3\\lib\\site-packages\\sklearn\\feature_selection\\_univariate_selection.py:112: UserWarning: Features [ 86 120 121 122] are constant.\n",
      "  warnings.warn(\"Features %s are constant.\" % constant_features_idx, UserWarning)\n",
      "c:\\Users\\azamj\\anaconda3\\lib\\site-packages\\sklearn\\feature_selection\\_univariate_selection.py:113: RuntimeWarning: invalid value encountered in divide\n",
      "  f = msb / msw\n"
     ]
    },
    {
     "name": "stdout",
     "output_type": "stream",
     "text": [
      "\n",
      "[w08chronic_e] 열을 예측:\n",
      "==================================\n",
      "\n",
      "[Random Forest] 모델 평가:\n",
      "--------------------------\n"
     ]
    },
    {
     "name": "stderr",
     "output_type": "stream",
     "text": [
      "c:\\Users\\azamj\\anaconda3\\lib\\site-packages\\sklearn\\metrics\\_classification.py:1509: UndefinedMetricWarning: Precision is ill-defined and being set to 0.0 in labels with no predicted samples. Use `zero_division` parameter to control this behavior.\n",
      "  _warn_prf(average, modifier, f\"{metric.capitalize()} is\", len(result))\n",
      "c:\\Users\\azamj\\anaconda3\\lib\\site-packages\\sklearn\\metrics\\_classification.py:1509: UndefinedMetricWarning: Precision is ill-defined and being set to 0.0 in labels with no predicted samples. Use `zero_division` parameter to control this behavior.\n",
      "  _warn_prf(average, modifier, f\"{metric.capitalize()} is\", len(result))\n"
     ]
    },
    {
     "name": "stdout",
     "output_type": "stream",
     "text": [
      "\n",
      "[Decision Tree] 모델 평가:\n",
      "--------------------------\n",
      "\n",
      "[SVM] 모델 평가:\n",
      "--------------------------\n"
     ]
    },
    {
     "name": "stderr",
     "output_type": "stream",
     "text": [
      "c:\\Users\\azamj\\anaconda3\\lib\\site-packages\\sklearn\\metrics\\_classification.py:1509: UndefinedMetricWarning: Precision is ill-defined and being set to 0.0 in labels with no predicted samples. Use `zero_division` parameter to control this behavior.\n",
      "  _warn_prf(average, modifier, f\"{metric.capitalize()} is\", len(result))\n"
     ]
    },
    {
     "name": "stdout",
     "output_type": "stream",
     "text": [
      "\n",
      "[MLP] 모델 평가:\n",
      "--------------------------\n",
      "\n",
      "[w08chronic_f] 열을 예측:\n",
      "==================================\n",
      "\n",
      "[Random Forest] 모델 평가:\n",
      "--------------------------\n"
     ]
    },
    {
     "name": "stderr",
     "output_type": "stream",
     "text": [
      "c:\\Users\\azamj\\anaconda3\\lib\\site-packages\\sklearn\\feature_selection\\_univariate_selection.py:112: UserWarning: Features [ 86 120 121 122] are constant.\n",
      "  warnings.warn(\"Features %s are constant.\" % constant_features_idx, UserWarning)\n",
      "c:\\Users\\azamj\\anaconda3\\lib\\site-packages\\sklearn\\feature_selection\\_univariate_selection.py:113: RuntimeWarning: invalid value encountered in divide\n",
      "  f = msb / msw\n"
     ]
    },
    {
     "name": "stdout",
     "output_type": "stream",
     "text": [
      "\n",
      "[Decision Tree] 모델 평가:\n",
      "--------------------------\n",
      "\n",
      "[SVM] 모델 평가:\n",
      "--------------------------\n",
      "\n",
      "[MLP] 모델 평가:\n",
      "--------------------------\n",
      "\n",
      "[w08chronic_g] 열을 예측:\n",
      "==================================\n",
      "\n",
      "[Random Forest] 모델 평가:\n",
      "--------------------------\n"
     ]
    },
    {
     "name": "stderr",
     "output_type": "stream",
     "text": [
      "c:\\Users\\azamj\\anaconda3\\lib\\site-packages\\sklearn\\feature_selection\\_univariate_selection.py:112: UserWarning: Features [ 86 120 121 122] are constant.\n",
      "  warnings.warn(\"Features %s are constant.\" % constant_features_idx, UserWarning)\n",
      "c:\\Users\\azamj\\anaconda3\\lib\\site-packages\\sklearn\\feature_selection\\_univariate_selection.py:113: RuntimeWarning: invalid value encountered in divide\n",
      "  f = msb / msw\n"
     ]
    },
    {
     "name": "stdout",
     "output_type": "stream",
     "text": [
      "\n",
      "[Decision Tree] 모델 평가:\n",
      "--------------------------\n",
      "\n",
      "[SVM] 모델 평가:\n",
      "--------------------------\n"
     ]
    },
    {
     "name": "stderr",
     "output_type": "stream",
     "text": [
      "c:\\Users\\azamj\\anaconda3\\lib\\site-packages\\sklearn\\metrics\\_classification.py:1509: UndefinedMetricWarning: Precision is ill-defined and being set to 0.0 in labels with no predicted samples. Use `zero_division` parameter to control this behavior.\n",
      "  _warn_prf(average, modifier, f\"{metric.capitalize()} is\", len(result))\n"
     ]
    },
    {
     "name": "stdout",
     "output_type": "stream",
     "text": [
      "\n",
      "[MLP] 모델 평가:\n",
      "--------------------------\n",
      "\n",
      "[w08chronic_h] 열을 예측:\n",
      "==================================\n",
      "\n",
      "[Random Forest] 모델 평가:\n",
      "--------------------------\n"
     ]
    },
    {
     "name": "stderr",
     "output_type": "stream",
     "text": [
      "c:\\Users\\azamj\\anaconda3\\lib\\site-packages\\sklearn\\feature_selection\\_univariate_selection.py:112: UserWarning: Features [ 86 120 121 122] are constant.\n",
      "  warnings.warn(\"Features %s are constant.\" % constant_features_idx, UserWarning)\n",
      "c:\\Users\\azamj\\anaconda3\\lib\\site-packages\\sklearn\\feature_selection\\_univariate_selection.py:113: RuntimeWarning: invalid value encountered in divide\n",
      "  f = msb / msw\n"
     ]
    },
    {
     "name": "stdout",
     "output_type": "stream",
     "text": [
      "\n",
      "[Decision Tree] 모델 평가:\n",
      "--------------------------\n",
      "\n",
      "[SVM] 모델 평가:\n",
      "--------------------------\n",
      "\n",
      "[MLP] 모델 평가:\n",
      "--------------------------\n",
      "\n",
      "[w08chronic_i] 열을 예측:\n",
      "==================================\n",
      "\n",
      "[Random Forest] 모델 평가:\n",
      "--------------------------\n"
     ]
    },
    {
     "name": "stderr",
     "output_type": "stream",
     "text": [
      "c:\\Users\\azamj\\anaconda3\\lib\\site-packages\\sklearn\\feature_selection\\_univariate_selection.py:112: UserWarning: Features [ 86 120 121 122] are constant.\n",
      "  warnings.warn(\"Features %s are constant.\" % constant_features_idx, UserWarning)\n",
      "c:\\Users\\azamj\\anaconda3\\lib\\site-packages\\sklearn\\feature_selection\\_univariate_selection.py:113: RuntimeWarning: invalid value encountered in divide\n",
      "  f = msb / msw\n"
     ]
    },
    {
     "name": "stdout",
     "output_type": "stream",
     "text": [
      "\n",
      "[Decision Tree] 모델 평가:\n",
      "--------------------------\n",
      "\n",
      "[SVM] 모델 평가:\n",
      "--------------------------\n",
      "\n",
      "[MLP] 모델 평가:\n",
      "--------------------------\n",
      "\n",
      "[w08chronic_k] 열을 예측:\n",
      "==================================\n",
      "\n",
      "[Random Forest] 모델 평가:\n",
      "--------------------------\n"
     ]
    },
    {
     "name": "stderr",
     "output_type": "stream",
     "text": [
      "c:\\Users\\azamj\\anaconda3\\lib\\site-packages\\sklearn\\feature_selection\\_univariate_selection.py:112: UserWarning: Features [ 86 120 121 122] are constant.\n",
      "  warnings.warn(\"Features %s are constant.\" % constant_features_idx, UserWarning)\n",
      "c:\\Users\\azamj\\anaconda3\\lib\\site-packages\\sklearn\\feature_selection\\_univariate_selection.py:113: RuntimeWarning: invalid value encountered in divide\n",
      "  f = msb / msw\n",
      "c:\\Users\\azamj\\anaconda3\\lib\\site-packages\\sklearn\\metrics\\_classification.py:1509: UndefinedMetricWarning: Precision is ill-defined and being set to 0.0 in labels with no predicted samples. Use `zero_division` parameter to control this behavior.\n",
      "  _warn_prf(average, modifier, f\"{metric.capitalize()} is\", len(result))\n"
     ]
    },
    {
     "name": "stdout",
     "output_type": "stream",
     "text": [
      "\n",
      "[Decision Tree] 모델 평가:\n",
      "--------------------------\n",
      "\n",
      "[SVM] 모델 평가:\n",
      "--------------------------\n",
      "\n",
      "[MLP] 모델 평가:\n",
      "--------------------------\n",
      "\n",
      "[w08chronic_l] 열을 예측:\n",
      "==================================\n",
      "\n",
      "[Random Forest] 모델 평가:\n",
      "--------------------------\n"
     ]
    },
    {
     "name": "stderr",
     "output_type": "stream",
     "text": [
      "c:\\Users\\azamj\\anaconda3\\lib\\site-packages\\sklearn\\feature_selection\\_univariate_selection.py:112: UserWarning: Features [ 86 120 121 122] are constant.\n",
      "  warnings.warn(\"Features %s are constant.\" % constant_features_idx, UserWarning)\n",
      "c:\\Users\\azamj\\anaconda3\\lib\\site-packages\\sklearn\\feature_selection\\_univariate_selection.py:113: RuntimeWarning: invalid value encountered in divide\n",
      "  f = msb / msw\n",
      "c:\\Users\\azamj\\anaconda3\\lib\\site-packages\\sklearn\\metrics\\_classification.py:1509: UndefinedMetricWarning: Precision is ill-defined and being set to 0.0 in labels with no predicted samples. Use `zero_division` parameter to control this behavior.\n",
      "  _warn_prf(average, modifier, f\"{metric.capitalize()} is\", len(result))\n"
     ]
    },
    {
     "name": "stdout",
     "output_type": "stream",
     "text": [
      "\n",
      "[Decision Tree] 모델 평가:\n",
      "--------------------------\n",
      "\n",
      "[SVM] 모델 평가:\n",
      "--------------------------\n"
     ]
    },
    {
     "name": "stderr",
     "output_type": "stream",
     "text": [
      "c:\\Users\\azamj\\anaconda3\\lib\\site-packages\\sklearn\\metrics\\_classification.py:1509: UndefinedMetricWarning: Precision is ill-defined and being set to 0.0 in labels with no predicted samples. Use `zero_division` parameter to control this behavior.\n",
      "  _warn_prf(average, modifier, f\"{metric.capitalize()} is\", len(result))\n"
     ]
    },
    {
     "name": "stdout",
     "output_type": "stream",
     "text": [
      "\n",
      "[MLP] 모델 평가:\n",
      "--------------------------\n",
      "\n",
      "[w08chronic_m] 열을 예측:\n",
      "==================================\n",
      "\n",
      "[Random Forest] 모델 평가:\n",
      "--------------------------\n"
     ]
    },
    {
     "name": "stderr",
     "output_type": "stream",
     "text": [
      "c:\\Users\\azamj\\anaconda3\\lib\\site-packages\\sklearn\\feature_selection\\_univariate_selection.py:112: UserWarning: Features [ 86 120 121 122] are constant.\n",
      "  warnings.warn(\"Features %s are constant.\" % constant_features_idx, UserWarning)\n",
      "c:\\Users\\azamj\\anaconda3\\lib\\site-packages\\sklearn\\feature_selection\\_univariate_selection.py:113: RuntimeWarning: invalid value encountered in divide\n",
      "  f = msb / msw\n"
     ]
    },
    {
     "name": "stdout",
     "output_type": "stream",
     "text": [
      "\n",
      "[Decision Tree] 모델 평가:\n",
      "--------------------------\n",
      "\n",
      "[SVM] 모델 평가:\n",
      "--------------------------\n",
      "\n",
      "[MLP] 모델 평가:\n",
      "--------------------------\n"
     ]
    }
   ],
   "source": [
    "# 7. 각 타겟 열을 사용한 학습 및 평가\n",
    "for target_column in columns:\n",
    "    print(f'\\n[{target_column}] 열을 예측:')\n",
    "    print('==================================')\n",
    "\n",
    "    y = cleaned_data[target_column].values\n",
    "\n",
    "    # 데이터 나누기\n",
    "    X_train, X_test, y_train, y_test = train_test_split(X_scaled, y, test_size=0.2, random_state=42)\n",
    "\n",
    "    # SelectKBest로 피처 선택 (f_classif 사용, 최대 10개의 중요한 피처 선택)\n",
    "    selector = SelectKBest(f_classif, k=10)\n",
    "    X_train_selected = selector.fit_transform(X_train, y_train)\n",
    "    X_test_selected = selector.transform(X_test)\n",
    "\n",
    "    # 타겟 클래스가 두 개 이상이면 AUC 계산을 위해 타겟을 이진화 (One-vs-Rest 방식)\n",
    "    y_test_bin = label_binarize(y_test, classes=np.unique(y))\n",
    "    if y_test_bin.shape[1] == 1:  # 클래스가 하나인 경우\n",
    "        y_test_bin = np.concatenate([1 - y_test_bin, y_test_bin], axis=1)\n",
    "\n",
    "    # 8. 각 모델에 대해 RandomizedSearchCV를 사용한 학습 및 평가\n",
    "    for model_name, model in models.items():\n",
    "        print(f'\\n[{model_name}] 모델 평가:')\n",
    "        print('--------------------------')\n",
    "\n",
    "        try:\n",
    "            # RandomizedSearchCV 설정\n",
    "            random_search = RandomizedSearchCV(model, param_grids[model_name], n_iter=10, scoring='f1_weighted', cv=3, random_state=42, n_jobs=-1)\n",
    "            \n",
    "            # 모델 학습\n",
    "            random_search.fit(X_train_selected, y_train)\n",
    "            best_model = random_search.best_estimator_\n",
    "\n",
    "            # 예측\n",
    "            y_pred = best_model.predict(X_test_selected)\n",
    "            \n",
    "            # 확률 예측 값이 있는 경우\n",
    "            if hasattr(best_model, \"predict_proba\"):\n",
    "                y_pred_proba = best_model.predict_proba(X_test_selected)\n",
    "            else:\n",
    "                y_pred_proba = np.zeros((len(y_test), len(np.unique(y_test))))  # 확률 값을 지원하지 않는 모델에 대한 처리\n",
    "\n",
    "            # 정확도 계산\n",
    "            accuracy = accuracy_score(y_test, y_pred)\n",
    "\n",
    "            # precision, recall, f1-score 계산 (weighted average)\n",
    "            precision, recall, f1, _ = precision_recall_fscore_support(y_test, y_pred, average='weighted')\n",
    "\n",
    "            # Micro, Macro, Weighted F1 계산\n",
    "            micro_f1 = f1_score(y_test, y_pred, average='micro')\n",
    "            macro_f1 = f1_score(y_test, y_pred, average='macro')\n",
    "            weighted_f1 = f1_score(y_test, y_pred, average='weighted')\n",
    "\n",
    "            # AUC 계산 (다중 클래스의 경우 One-vs-Rest 방식 사용)\n",
    "            try:\n",
    "                auc = roc_auc_score(y_test_bin, y_pred_proba, multi_class=\"ovr\", average='weighted')\n",
    "            except ValueError:\n",
    "                auc = np.nan  # AUC 계산 불가 시 처리\n",
    "\n",
    "            # 결과 추가\n",
    "            new_row = pd.DataFrame({\n",
    "                'Model': [model_name],\n",
    "                'Target': [target_column],\n",
    "                'Precision': [precision],\n",
    "                'Recall': [recall],\n",
    "                'F1-Score': [f1],\n",
    "                'Accuracy': [accuracy],\n",
    "                'Micro F1': [micro_f1],\n",
    "                'Macro F1': [macro_f1],\n",
    "                'Weighted F1': [weighted_f1],\n",
    "                'AUC': [auc]\n",
    "            })\n",
    "            result_table = pd.concat([result_table, new_row], ignore_index=True)\n",
    "        except Exception as e:\n",
    "            print(f\"{model_name} 모델에서 오류 발생: {e}\")\n",
    "            continue\n"
   ]
  },
  {
   "cell_type": "code",
   "execution_count": 45,
   "metadata": {},
   "outputs": [
    {
     "name": "stdout",
     "output_type": "stream",
     "text": [
      "\n",
      "전체 모델 평가 결과:\n",
      "          Target          Model  Precision    Recall  F1-Score  Accuracy  \\\n",
      "0   w08chronic_a  Random Forest   0.743987  0.718543  0.713934  0.718543   \n",
      "1   w08chronic_a  Decision Tree   0.772184  0.730684  0.723281  0.730684   \n",
      "2   w08chronic_a            SVM   0.773610  0.729581  0.721621  0.729581   \n",
      "3   w08chronic_a            MLP   0.768633  0.728477  0.721219  0.728477   \n",
      "4   w08chronic_b  Random Forest   0.680586  0.761589  0.683426  0.761589   \n",
      "5   w08chronic_b  Decision Tree   0.665517  0.738411  0.685107  0.738411   \n",
      "6   w08chronic_b            SVM   0.661748  0.757174  0.677564  0.757174   \n",
      "7   w08chronic_b            MLP   0.689358  0.750552  0.700316  0.750552   \n",
      "8   w08chronic_c  Random Forest   0.874835  0.923841  0.892459  0.923841   \n",
      "9   w08chronic_c  Decision Tree   0.879287  0.922737  0.893748  0.922737   \n",
      "10  w08chronic_c            SVM   0.859611  0.927152  0.892105  0.927152   \n",
      "11  w08chronic_c            MLP   0.859387  0.923841  0.890449  0.923841   \n",
      "12  w08chronic_d  Random Forest   0.941285  0.970199  0.955523  0.970199   \n",
      "13  w08chronic_d  Decision Tree   0.941285  0.970199  0.955523  0.970199   \n",
      "14  w08chronic_d            SVM   0.941222  0.967991  0.954419  0.967991   \n",
      "15  w08chronic_d            MLP   0.941285  0.970199  0.955523  0.970199   \n",
      "16  w08chronic_e  Random Forest   0.943428  0.971302  0.957163  0.971302   \n",
      "17  w08chronic_e  Decision Tree   0.943428  0.971302  0.957163  0.971302   \n",
      "18  w08chronic_e            SVM   0.943428  0.971302  0.957163  0.971302   \n",
      "19  w08chronic_e            MLP   0.943305  0.966887  0.954951  0.966887   \n",
      "20  w08chronic_f  Random Forest   0.826368  0.891832  0.844981  0.891832   \n",
      "21  w08chronic_f  Decision Tree   0.851301  0.892936  0.853079  0.892936   \n",
      "22  w08chronic_f            SVM   0.799097  0.891832  0.842922  0.891832   \n",
      "23  w08chronic_f            MLP   0.834536  0.888521  0.848794  0.888521   \n",
      "24  w08chronic_g  Random Forest   0.932738  0.947020  0.924279  0.947020   \n",
      "25  w08chronic_g  Decision Tree   0.938239  0.948124  0.926764  0.948124   \n",
      "26  w08chronic_g            SVM   0.894757  0.945916  0.919626  0.945916   \n",
      "27  w08chronic_g            MLP   0.914546  0.943709  0.922393  0.943709   \n",
      "28  w08chronic_h  Random Forest   0.946310  0.954746  0.939426  0.954746   \n",
      "29  w08chronic_h  Decision Tree   0.928969  0.949227  0.932823  0.949227   \n",
      "30  w08chronic_h            SVM   0.931603  0.947020  0.936652  0.947020   \n",
      "31  w08chronic_h            MLP   0.941589  0.953642  0.940018  0.953642   \n",
      "32  w08chronic_i  Random Forest   0.752519  0.768212  0.750100  0.768212   \n",
      "33  w08chronic_i  Decision Tree   0.758553  0.768212  0.761532  0.768212   \n",
      "34  w08chronic_i            SVM   0.756682  0.771523  0.750190  0.771523   \n",
      "35  w08chronic_i            MLP   0.745009  0.761589  0.745044  0.761589   \n",
      "36  w08chronic_k  Random Forest   0.971508  0.985651  0.978529  0.985651   \n",
      "37  w08chronic_k  Decision Tree   0.971493  0.984547  0.977977  0.984547   \n",
      "38  w08chronic_k            SVM   0.974901  0.981236  0.977816  0.981236   \n",
      "39  w08chronic_k            MLP   0.976126  0.983444  0.979103  0.983444   \n",
      "40  w08chronic_l  Random Forest   0.973685  0.986755  0.980177  0.986755   \n",
      "41  w08chronic_l  Decision Tree   0.977357  0.983444  0.980067  0.983444   \n",
      "42  w08chronic_l            SVM   0.973685  0.986755  0.980177  0.986755   \n",
      "43  w08chronic_l            MLP   0.973671  0.985651  0.979624  0.985651   \n",
      "44  w08chronic_m  Random Forest   0.982399  0.988962  0.985670  0.988962   \n",
      "45  w08chronic_m  Decision Tree   0.982369  0.985651  0.984008  0.985651   \n",
      "46  w08chronic_m            SVM   0.987910  0.991170  0.988536  0.991170   \n",
      "47  w08chronic_m            MLP   0.992333  0.992274  0.989284  0.992274   \n",
      "\n",
      "    Micro F1  Macro F1  Weighted F1       AUC  \n",
      "0   0.718543  0.715279     0.713934  0.762894  \n",
      "1   0.730684  0.725023     0.723281  0.762305  \n",
      "2   0.729581  0.723440     0.721621  0.759510  \n",
      "3   0.728477  0.722947     0.721219  0.765052  \n",
      "4   0.761589  0.473845     0.683426  0.719869  \n",
      "5   0.738411  0.497969     0.685107  0.683425  \n",
      "6   0.757174  0.464101     0.677564  0.662233  \n",
      "7   0.750552  0.522669     0.700316  0.712442  \n",
      "8   0.923841  0.494268     0.892459  0.636526  \n",
      "9   0.922737  0.506889     0.893748  0.627300  \n",
      "10  0.927152  0.481100     0.892105  0.448900  \n",
      "11  0.923841  0.480207     0.890449  0.677110  \n",
      "12  0.970199  0.492437     0.955523  0.693212  \n",
      "13  0.970199  0.492437     0.955523  0.712510  \n",
      "14  0.967991  0.491868     0.954419  0.584460  \n",
      "15  0.970199  0.492437     0.955523  0.717061  \n",
      "16  0.971302  0.492721     0.957163  0.598274  \n",
      "17  0.971302  0.492721     0.957163  0.602950  \n",
      "18  0.971302  0.492721     0.957163  0.494952  \n",
      "19  0.966887  0.491582     0.954951  0.552120  \n",
      "20  0.891832  0.481379     0.844981  0.637886  \n",
      "21  0.892936  0.518283     0.853079  0.628794  \n",
      "22  0.891832  0.471412     0.842922  0.569567  \n",
      "23  0.888521  0.507044     0.848794  0.637661  \n",
      "24  0.947020  0.524825     0.924279  0.723168  \n",
      "25  0.948124  0.543244     0.926764  0.735873  \n",
      "26  0.945916  0.486103     0.919626  0.674196  \n",
      "27  0.943709  0.521850     0.922393  0.753185  \n",
      "28  0.954746  0.601553     0.939426  0.710879  \n",
      "29  0.949227  0.560991     0.932823  0.686398  \n",
      "30  0.947020  0.611270     0.936652  0.603213  \n",
      "31  0.953642  0.613041     0.940018  0.690579  \n",
      "32  0.768212  0.674569     0.750100  0.780333  \n",
      "33  0.768212  0.699184     0.761532  0.769918  \n",
      "34  0.771523  0.672035     0.750190  0.747705  \n",
      "35  0.761589  0.669629     0.745044  0.791274  \n",
      "36  0.985651  0.496387     0.978529  0.620510  \n",
      "37  0.984547  0.496107     0.977977  0.697562  \n",
      "38  0.981236  0.547891     0.977816  0.542467  \n",
      "39  0.983444  0.554645     0.979103  0.669610  \n",
      "40  0.986755  0.496667     0.980177  0.858128  \n",
      "41  0.983444  0.554645     0.980067  0.896486  \n",
      "42  0.986755  0.496667     0.980177  0.662565  \n",
      "43  0.985651  0.496387     0.979624  0.896999  \n",
      "44  0.988962  0.497225     0.985670  0.865117  \n",
      "45  0.985651  0.496387     0.984008  0.747982  \n",
      "46  0.991170  0.597780     0.988536  0.624304  \n",
      "47  0.992274  0.609170     0.989284  0.865535  \n"
     ]
    }
   ],
   "source": [
    "# 9. 결과 테이블 출력\n",
    "print(\"\\n전체 모델 평가 결과:\")\n",
    "print(result_table)"
   ]
  }
 ],
 "metadata": {
  "kernelspec": {
   "display_name": "base",
   "language": "python",
   "name": "python3"
  },
  "language_info": {
   "codemirror_mode": {
    "name": "ipython",
    "version": 3
   },
   "file_extension": ".py",
   "mimetype": "text/x-python",
   "name": "python",
   "nbconvert_exporter": "python",
   "pygments_lexer": "ipython3",
   "version": "3.9.13"
  }
 },
 "nbformat": 4,
 "nbformat_minor": 2
}
