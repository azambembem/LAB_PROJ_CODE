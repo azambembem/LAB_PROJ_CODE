{
 "cells": [
  {
   "cell_type": "code",
   "execution_count": 32,
   "metadata": {},
   "outputs": [],
   "source": [
    "import pandas as pd\n",
    "import numpy as np\n",
    "from sklearn.model_selection import train_test_split\n",
    "from sklearn.preprocessing import StandardScaler\n",
    "from sklearn.ensemble import RandomForestClassifier\n",
    "from sklearn.tree import DecisionTreeClassifier\n",
    "from sklearn.svm import SVC\n",
    "from sklearn.neural_network import MLPClassifier\n",
    "from sklearn.metrics import accuracy_score, f1_score, roc_auc_score, precision_recall_fscore_support\n",
    "from sklearn.preprocessing import label_binarize\n",
    "from sklearn.feature_selection import RFE\n",
    "from sklearn.linear_model import LogisticRegression\n",
    "from sklearn.naive_bayes import GaussianNB"
   ]
  },
  {
   "cell_type": "code",
   "execution_count": 33,
   "metadata": {},
   "outputs": [],
   "source": [
    "# 1. 데이터 불러오기\n",
    "data = pd.read_csv('azdigar nav sartirovka+0 delete.csv')"
   ]
  },
  {
   "cell_type": "code",
   "execution_count": 34,
   "metadata": {},
   "outputs": [],
   "source": [
    "# 분석할 열들\n",
    "columns = [\n",
    "    'w08chronic_a', 'w08chronic_b', 'w08chronic_c',\n",
    "    'w08chronic_d', 'w08chronic_e', 'w08chronic_f',\n",
    "    'w08chronic_g', 'w08chronic_h', 'w08chronic_i',\n",
    "    'w08chronic_k', 'w08chronic_l', 'w08chronic_m'\n",
    "]\n"
   ]
  },
  {
   "cell_type": "code",
   "execution_count": 35,
   "metadata": {},
   "outputs": [],
   "source": [
    "# 2. 데이터 클리닝 - 'w08chronic_m'에서 값이 3인 행 제거\n",
    "cleaned_data = data[data['w08chronic_m'] != 3]"
   ]
  },
  {
   "cell_type": "code",
   "execution_count": 36,
   "metadata": {},
   "outputs": [],
   "source": [
    "# 3. 피처 데이터 정의 (모든 chronic 컬럼 제외)\n",
    "X = cleaned_data.drop(columns=columns)\n",
    "y_all = cleaned_data[columns]\n"
   ]
  },
  {
   "cell_type": "code",
   "execution_count": 37,
   "metadata": {},
   "outputs": [],
   "source": [
    "# 4. 데이터 스케일링\n",
    "scaler = StandardScaler()\n",
    "X_scaled = scaler.fit_transform(X)"
   ]
  },
  {
   "cell_type": "code",
   "execution_count": 38,
   "metadata": {},
   "outputs": [],
   "source": [
    "# 5. 모델 정의\n",
    "models = {\n",
    "    'Random Forest': RandomForestClassifier(random_state=42),\n",
    "    'Decision Tree': DecisionTreeClassifier(random_state=42),\n",
    "    'SVM': SVC(probability=True, random_state=42),\n",
    "    'MLP': MLPClassifier(max_iter=2000, random_state=42),\n",
    "    'Naive Bayes': GaussianNB()  # Naive Bayes 추가\n",
    "}\n"
   ]
  },
  {
   "cell_type": "code",
   "execution_count": 39,
   "metadata": {},
   "outputs": [],
   "source": [
    "# 6. 결과 저장을 위한 빈 데이터프레임 생성\n",
    "result_table = pd.DataFrame(columns=['Target', 'Model', 'Precision', 'Recall', 'F1-Score', 'Accuracy', 'Micro F1', 'Macro F1', 'Weighted F1', 'AUC'])"
   ]
  },
  {
   "cell_type": "code",
   "execution_count": 40,
   "metadata": {},
   "outputs": [
    {
     "name": "stdout",
     "output_type": "stream",
     "text": [
      "\n",
      "[w08chronic_a] 열을 예측:\n",
      "==================================\n",
      "\n",
      "[Random Forest] 모델 평가:\n",
      "--------------------------\n",
      "\n",
      "[Decision Tree] 모델 평가:\n",
      "--------------------------\n",
      "\n",
      "[SVM] 모델 평가:\n",
      "--------------------------\n",
      "\n",
      "[MLP] 모델 평가:\n",
      "--------------------------\n",
      "\n",
      "[Naive Bayes] 모델 평가:\n",
      "--------------------------\n",
      "\n",
      "[w08chronic_b] 열을 예측:\n",
      "==================================\n",
      "\n",
      "[Random Forest] 모델 평가:\n",
      "--------------------------\n",
      "\n",
      "[Decision Tree] 모델 평가:\n",
      "--------------------------\n",
      "\n",
      "[SVM] 모델 평가:\n",
      "--------------------------\n",
      "\n",
      "[MLP] 모델 평가:\n",
      "--------------------------\n",
      "\n",
      "[Naive Bayes] 모델 평가:\n",
      "--------------------------\n",
      "\n",
      "[w08chronic_c] 열을 예측:\n",
      "==================================\n",
      "\n",
      "[Random Forest] 모델 평가:\n",
      "--------------------------\n",
      "\n",
      "[Decision Tree] 모델 평가:\n",
      "--------------------------\n",
      "\n",
      "[SVM] 모델 평가:\n",
      "--------------------------\n"
     ]
    },
    {
     "name": "stderr",
     "output_type": "stream",
     "text": [
      "c:\\Users\\azamj\\anaconda3\\lib\\site-packages\\sklearn\\metrics\\_classification.py:1509: UndefinedMetricWarning: Precision is ill-defined and being set to 0.0 in labels with no predicted samples. Use `zero_division` parameter to control this behavior.\n",
      "  _warn_prf(average, modifier, f\"{metric.capitalize()} is\", len(result))\n"
     ]
    },
    {
     "name": "stdout",
     "output_type": "stream",
     "text": [
      "\n",
      "[MLP] 모델 평가:\n",
      "--------------------------\n"
     ]
    },
    {
     "name": "stderr",
     "output_type": "stream",
     "text": [
      "c:\\Users\\azamj\\anaconda3\\lib\\site-packages\\sklearn\\metrics\\_classification.py:1509: UndefinedMetricWarning: Precision is ill-defined and being set to 0.0 in labels with no predicted samples. Use `zero_division` parameter to control this behavior.\n",
      "  _warn_prf(average, modifier, f\"{metric.capitalize()} is\", len(result))\n"
     ]
    },
    {
     "name": "stdout",
     "output_type": "stream",
     "text": [
      "\n",
      "[Naive Bayes] 모델 평가:\n",
      "--------------------------\n",
      "\n",
      "[w08chronic_d] 열을 예측:\n",
      "==================================\n",
      "\n",
      "[Random Forest] 모델 평가:\n",
      "--------------------------\n",
      "\n",
      "[Decision Tree] 모델 평가:\n",
      "--------------------------\n",
      "\n",
      "[SVM] 모델 평가:\n",
      "--------------------------\n"
     ]
    },
    {
     "name": "stderr",
     "output_type": "stream",
     "text": [
      "c:\\Users\\azamj\\anaconda3\\lib\\site-packages\\sklearn\\metrics\\_classification.py:1509: UndefinedMetricWarning: Precision is ill-defined and being set to 0.0 in labels with no predicted samples. Use `zero_division` parameter to control this behavior.\n",
      "  _warn_prf(average, modifier, f\"{metric.capitalize()} is\", len(result))\n"
     ]
    },
    {
     "name": "stdout",
     "output_type": "stream",
     "text": [
      "\n",
      "[MLP] 모델 평가:\n",
      "--------------------------\n"
     ]
    },
    {
     "name": "stderr",
     "output_type": "stream",
     "text": [
      "c:\\Users\\azamj\\anaconda3\\lib\\site-packages\\sklearn\\metrics\\_classification.py:1509: UndefinedMetricWarning: Precision is ill-defined and being set to 0.0 in labels with no predicted samples. Use `zero_division` parameter to control this behavior.\n",
      "  _warn_prf(average, modifier, f\"{metric.capitalize()} is\", len(result))\n"
     ]
    },
    {
     "name": "stdout",
     "output_type": "stream",
     "text": [
      "\n",
      "[Naive Bayes] 모델 평가:\n",
      "--------------------------\n",
      "\n",
      "[w08chronic_e] 열을 예측:\n",
      "==================================\n",
      "\n",
      "[Random Forest] 모델 평가:\n",
      "--------------------------\n",
      "\n",
      "[Decision Tree] 모델 평가:\n",
      "--------------------------\n",
      "\n",
      "[SVM] 모델 평가:\n",
      "--------------------------\n"
     ]
    },
    {
     "name": "stderr",
     "output_type": "stream",
     "text": [
      "c:\\Users\\azamj\\anaconda3\\lib\\site-packages\\sklearn\\metrics\\_classification.py:1509: UndefinedMetricWarning: Precision is ill-defined and being set to 0.0 in labels with no predicted samples. Use `zero_division` parameter to control this behavior.\n",
      "  _warn_prf(average, modifier, f\"{metric.capitalize()} is\", len(result))\n",
      "c:\\Users\\azamj\\anaconda3\\lib\\site-packages\\sklearn\\metrics\\_classification.py:1509: UndefinedMetricWarning: Precision is ill-defined and being set to 0.0 in labels with no predicted samples. Use `zero_division` parameter to control this behavior.\n",
      "  _warn_prf(average, modifier, f\"{metric.capitalize()} is\", len(result))\n"
     ]
    },
    {
     "name": "stdout",
     "output_type": "stream",
     "text": [
      "\n",
      "[MLP] 모델 평가:\n",
      "--------------------------\n"
     ]
    },
    {
     "name": "stderr",
     "output_type": "stream",
     "text": [
      "c:\\Users\\azamj\\anaconda3\\lib\\site-packages\\sklearn\\metrics\\_classification.py:1509: UndefinedMetricWarning: Precision is ill-defined and being set to 0.0 in labels with no predicted samples. Use `zero_division` parameter to control this behavior.\n",
      "  _warn_prf(average, modifier, f\"{metric.capitalize()} is\", len(result))\n"
     ]
    },
    {
     "name": "stdout",
     "output_type": "stream",
     "text": [
      "\n",
      "[Naive Bayes] 모델 평가:\n",
      "--------------------------\n",
      "\n",
      "[w08chronic_f] 열을 예측:\n",
      "==================================\n",
      "\n",
      "[Random Forest] 모델 평가:\n",
      "--------------------------\n",
      "\n",
      "[Decision Tree] 모델 평가:\n",
      "--------------------------\n",
      "\n",
      "[SVM] 모델 평가:\n",
      "--------------------------\n"
     ]
    },
    {
     "name": "stderr",
     "output_type": "stream",
     "text": [
      "c:\\Users\\azamj\\anaconda3\\lib\\site-packages\\sklearn\\metrics\\_classification.py:1509: UndefinedMetricWarning: Precision is ill-defined and being set to 0.0 in labels with no predicted samples. Use `zero_division` parameter to control this behavior.\n",
      "  _warn_prf(average, modifier, f\"{metric.capitalize()} is\", len(result))\n"
     ]
    },
    {
     "name": "stdout",
     "output_type": "stream",
     "text": [
      "\n",
      "[MLP] 모델 평가:\n",
      "--------------------------\n"
     ]
    },
    {
     "name": "stderr",
     "output_type": "stream",
     "text": [
      "c:\\Users\\azamj\\anaconda3\\lib\\site-packages\\sklearn\\metrics\\_classification.py:1509: UndefinedMetricWarning: Precision is ill-defined and being set to 0.0 in labels with no predicted samples. Use `zero_division` parameter to control this behavior.\n",
      "  _warn_prf(average, modifier, f\"{metric.capitalize()} is\", len(result))\n"
     ]
    },
    {
     "name": "stdout",
     "output_type": "stream",
     "text": [
      "\n",
      "[Naive Bayes] 모델 평가:\n",
      "--------------------------\n",
      "\n",
      "[w08chronic_g] 열을 예측:\n",
      "==================================\n",
      "\n",
      "[Random Forest] 모델 평가:\n",
      "--------------------------\n",
      "\n",
      "[Decision Tree] 모델 평가:\n",
      "--------------------------\n",
      "\n",
      "[SVM] 모델 평가:\n",
      "--------------------------\n"
     ]
    },
    {
     "name": "stderr",
     "output_type": "stream",
     "text": [
      "c:\\Users\\azamj\\anaconda3\\lib\\site-packages\\sklearn\\metrics\\_classification.py:1509: UndefinedMetricWarning: Precision is ill-defined and being set to 0.0 in labels with no predicted samples. Use `zero_division` parameter to control this behavior.\n",
      "  _warn_prf(average, modifier, f\"{metric.capitalize()} is\", len(result))\n"
     ]
    },
    {
     "name": "stdout",
     "output_type": "stream",
     "text": [
      "\n",
      "[MLP] 모델 평가:\n",
      "--------------------------\n"
     ]
    },
    {
     "name": "stderr",
     "output_type": "stream",
     "text": [
      "c:\\Users\\azamj\\anaconda3\\lib\\site-packages\\sklearn\\metrics\\_classification.py:1509: UndefinedMetricWarning: Precision is ill-defined and being set to 0.0 in labels with no predicted samples. Use `zero_division` parameter to control this behavior.\n",
      "  _warn_prf(average, modifier, f\"{metric.capitalize()} is\", len(result))\n"
     ]
    },
    {
     "name": "stdout",
     "output_type": "stream",
     "text": [
      "\n",
      "[Naive Bayes] 모델 평가:\n",
      "--------------------------\n",
      "\n",
      "[w08chronic_h] 열을 예측:\n",
      "==================================\n",
      "\n",
      "[Random Forest] 모델 평가:\n",
      "--------------------------\n",
      "\n",
      "[Decision Tree] 모델 평가:\n",
      "--------------------------\n",
      "\n",
      "[SVM] 모델 평가:\n",
      "--------------------------\n",
      "\n",
      "[MLP] 모델 평가:\n",
      "--------------------------\n",
      "\n",
      "[Naive Bayes] 모델 평가:\n",
      "--------------------------\n",
      "\n",
      "[w08chronic_i] 열을 예측:\n",
      "==================================\n",
      "\n",
      "[Random Forest] 모델 평가:\n",
      "--------------------------\n",
      "\n",
      "[Decision Tree] 모델 평가:\n",
      "--------------------------\n",
      "\n",
      "[SVM] 모델 평가:\n",
      "--------------------------\n",
      "\n",
      "[MLP] 모델 평가:\n",
      "--------------------------\n",
      "\n",
      "[Naive Bayes] 모델 평가:\n",
      "--------------------------\n",
      "\n",
      "[w08chronic_k] 열을 예측:\n",
      "==================================\n",
      "\n",
      "[Random Forest] 모델 평가:\n",
      "--------------------------\n",
      "\n",
      "[Decision Tree] 모델 평가:\n",
      "--------------------------\n",
      "\n",
      "[SVM] 모델 평가:\n",
      "--------------------------\n"
     ]
    },
    {
     "name": "stderr",
     "output_type": "stream",
     "text": [
      "c:\\Users\\azamj\\anaconda3\\lib\\site-packages\\sklearn\\metrics\\_classification.py:1509: UndefinedMetricWarning: Precision is ill-defined and being set to 0.0 in labels with no predicted samples. Use `zero_division` parameter to control this behavior.\n",
      "  _warn_prf(average, modifier, f\"{metric.capitalize()} is\", len(result))\n"
     ]
    },
    {
     "name": "stdout",
     "output_type": "stream",
     "text": [
      "\n",
      "[MLP] 모델 평가:\n",
      "--------------------------\n"
     ]
    },
    {
     "name": "stderr",
     "output_type": "stream",
     "text": [
      "c:\\Users\\azamj\\anaconda3\\lib\\site-packages\\sklearn\\metrics\\_classification.py:1509: UndefinedMetricWarning: Precision is ill-defined and being set to 0.0 in labels with no predicted samples. Use `zero_division` parameter to control this behavior.\n",
      "  _warn_prf(average, modifier, f\"{metric.capitalize()} is\", len(result))\n"
     ]
    },
    {
     "name": "stdout",
     "output_type": "stream",
     "text": [
      "\n",
      "[Naive Bayes] 모델 평가:\n",
      "--------------------------\n",
      "\n",
      "[w08chronic_l] 열을 예측:\n",
      "==================================\n",
      "\n",
      "[Random Forest] 모델 평가:\n",
      "--------------------------\n",
      "\n",
      "[Decision Tree] 모델 평가:\n",
      "--------------------------\n",
      "\n",
      "[SVM] 모델 평가:\n",
      "--------------------------\n"
     ]
    },
    {
     "name": "stderr",
     "output_type": "stream",
     "text": [
      "c:\\Users\\azamj\\anaconda3\\lib\\site-packages\\sklearn\\metrics\\_classification.py:1509: UndefinedMetricWarning: Precision is ill-defined and being set to 0.0 in labels with no predicted samples. Use `zero_division` parameter to control this behavior.\n",
      "  _warn_prf(average, modifier, f\"{metric.capitalize()} is\", len(result))\n"
     ]
    },
    {
     "name": "stdout",
     "output_type": "stream",
     "text": [
      "\n",
      "[MLP] 모델 평가:\n",
      "--------------------------\n"
     ]
    },
    {
     "name": "stderr",
     "output_type": "stream",
     "text": [
      "c:\\Users\\azamj\\anaconda3\\lib\\site-packages\\sklearn\\metrics\\_classification.py:1509: UndefinedMetricWarning: Precision is ill-defined and being set to 0.0 in labels with no predicted samples. Use `zero_division` parameter to control this behavior.\n",
      "  _warn_prf(average, modifier, f\"{metric.capitalize()} is\", len(result))\n"
     ]
    },
    {
     "name": "stdout",
     "output_type": "stream",
     "text": [
      "\n",
      "[Naive Bayes] 모델 평가:\n",
      "--------------------------\n",
      "\n",
      "[w08chronic_m] 열을 예측:\n",
      "==================================\n",
      "\n",
      "[Random Forest] 모델 평가:\n",
      "--------------------------\n"
     ]
    },
    {
     "name": "stderr",
     "output_type": "stream",
     "text": [
      "c:\\Users\\azamj\\anaconda3\\lib\\site-packages\\sklearn\\metrics\\_classification.py:1509: UndefinedMetricWarning: Precision is ill-defined and being set to 0.0 in labels with no predicted samples. Use `zero_division` parameter to control this behavior.\n",
      "  _warn_prf(average, modifier, f\"{metric.capitalize()} is\", len(result))\n"
     ]
    },
    {
     "name": "stdout",
     "output_type": "stream",
     "text": [
      "\n",
      "[Decision Tree] 모델 평가:\n",
      "--------------------------\n",
      "\n",
      "[SVM] 모델 평가:\n",
      "--------------------------\n",
      "\n",
      "[MLP] 모델 평가:\n",
      "--------------------------\n",
      "\n",
      "[Naive Bayes] 모델 평가:\n",
      "--------------------------\n"
     ]
    }
   ],
   "source": [
    "# 7. 각 타겟 열을 사용한 학습 및 평가\n",
    "for target_column in columns:\n",
    "    print(f'\\n[{target_column}] 열을 예측:')\n",
    "    print('==================================')\n",
    "\n",
    "    y = cleaned_data[target_column].values\n",
    "\n",
    "    # 데이터 나누기\n",
    "    X_train, X_test, y_train, y_test = train_test_split(X_scaled, y, test_size=0.2, random_state=42)\n",
    "\n",
    "    # 8. RFE를 사용한 피처 선택 (Logistic Regression 기반)\n",
    "    model_for_rfe = LogisticRegression(solver='liblinear', random_state=42)\n",
    "    rfe = RFE(model_for_rfe, n_features_to_select=10)  # 선택할 피처 수 설정\n",
    "    \n",
    "    try:\n",
    "        X_train_rfe = rfe.fit_transform(X_train, y_train)\n",
    "        X_test_rfe = rfe.transform(X_test)\n",
    "    except Exception as e:\n",
    "        print(f\"RFE 과정에서 오류 발생: {e}\")\n",
    "        continue\n",
    "\n",
    "    # 타겟 클래스가 두 개 이상이면 AUC 계산을 위해 타겟을 이진화 (One-vs-Rest 방식)\n",
    "    y_test_bin = label_binarize(y_test, classes=np.unique(y))\n",
    "    if y_test_bin.shape[1] == 1:  # 클래스가 하나인 경우 (로지스틱 회귀처럼 처리 안 되게)\n",
    "        y_test_bin = np.concatenate([1 - y_test_bin, y_test_bin], axis=1)\n",
    "\n",
    "    # 9. 각 모델에 대해 학습 및 평가\n",
    "    for model_name, model in models.items():\n",
    "        print(f'\\n[{model_name}] 모델 평가:')\n",
    "        print('--------------------------')\n",
    "\n",
    "        try:\n",
    "            # 모델 학습\n",
    "            model.fit(X_train_rfe, y_train)\n",
    "\n",
    "            # 예측\n",
    "            y_pred = model.predict(X_test_rfe)\n",
    "            \n",
    "            # 확률 예측 값이 있는 경우\n",
    "            if hasattr(model, \"predict_proba\"):\n",
    "                y_pred_proba = model.predict_proba(X_test_rfe)\n",
    "            else:\n",
    "                y_pred_proba = np.zeros((len(y_test), len(np.unique(y_test))))  # 확률 값을 지원하지 않는 모델에 대한 처리\n",
    "\n",
    "            # 정확도 계산\n",
    "            accuracy = accuracy_score(y_test, y_pred)\n",
    "\n",
    "            # precision, recall, f1-score 계산 (weighted average)\n",
    "            precision, recall, f1, _ = precision_recall_fscore_support(y_test, y_pred, average='weighted')\n",
    "\n",
    "            # Micro, Macro, Weighted F1 계산\n",
    "            micro_f1 = f1_score(y_test, y_pred, average='micro')\n",
    "            macro_f1 = f1_score(y_test, y_pred, average='macro')\n",
    "            weighted_f1 = f1_score(y_test, y_pred, average='weighted')\n",
    "\n",
    "            # AUC 계산 (다중 클래스의 경우 One-vs-Rest 방식 사용)\n",
    "            try:\n",
    "                auc = roc_auc_score(y_test_bin, y_pred_proba, multi_class=\"ovr\", average='weighted')\n",
    "            except ValueError:\n",
    "                auc = np.nan  # AUC 계산 불가 시 처리\n",
    "\n",
    "            # 결과 추가\n",
    "            new_row = pd.DataFrame({\n",
    "                'Model': [model_name],\n",
    "                'Target': [target_column],\n",
    "                'Precision': [precision],\n",
    "                'Recall': [recall],\n",
    "                'F1-Score': [f1],\n",
    "                'Accuracy': [accuracy],\n",
    "                'Micro F1': [micro_f1],\n",
    "                'Macro F1': [macro_f1],\n",
    "                'Weighted F1': [weighted_f1],\n",
    "                'AUC': [auc]\n",
    "            })\n",
    "            result_table = pd.concat([result_table, new_row], ignore_index=True)\n",
    "        except Exception as e:\n",
    "            print(f\"{model_name} 모델에서 오류 발생: {e}\")\n",
    "            continue"
   ]
  },
  {
   "cell_type": "code",
   "execution_count": 41,
   "metadata": {},
   "outputs": [
    {
     "name": "stdout",
     "output_type": "stream",
     "text": [
      "\n",
      "전체 모델 평가 결과:\n",
      "          Target          Model  Precision    Recall  F1-Score  Accuracy  \\\n",
      "0   w08chronic_a  Random Forest   0.728031  0.714128  0.711973  0.714128   \n",
      "1   w08chronic_a  Decision Tree   0.632646  0.632450  0.632529  0.632450   \n",
      "2   w08chronic_a            SVM   0.771072  0.727373  0.719348  0.727373   \n",
      "3   w08chronic_a            MLP   0.761783  0.739514  0.736180  0.739514   \n",
      "4   w08chronic_a    Naive Bayes   0.753080  0.718543  0.711941  0.718543   \n",
      "5   w08chronic_b  Random Forest   0.684996  0.737307  0.700004  0.737307   \n",
      "6   w08chronic_b  Decision Tree   0.677108  0.658940  0.667283  0.658940   \n",
      "7   w08chronic_b            SVM   0.823185  0.770419  0.671626  0.770419   \n",
      "8   w08chronic_b            MLP   0.658151  0.753863  0.677343  0.753863   \n",
      "9   w08chronic_b    Naive Bayes   0.712437  0.726269  0.718570  0.726269   \n",
      "10  w08chronic_c  Random Forest   0.868425  0.911700  0.887698  0.911700   \n",
      "11  w08chronic_c  Decision Tree   0.866854  0.863135  0.864984  0.863135   \n",
      "12  w08chronic_c            SVM   0.859611  0.927152  0.892105  0.927152   \n",
      "13  w08chronic_c            MLP   0.859611  0.927152  0.892105  0.927152   \n",
      "14  w08chronic_c    Naive Bayes   0.932483  0.077263  0.018722  0.077263   \n",
      "15  w08chronic_d  Random Forest   0.941093  0.963576  0.952202  0.963576   \n",
      "16  w08chronic_d  Decision Tree   0.942680  0.943709  0.943194  0.943709   \n",
      "17  w08chronic_d            SVM   0.941285  0.970199  0.955523  0.970199   \n",
      "18  w08chronic_d            MLP   0.941285  0.970199  0.955523  0.970199   \n",
      "19  w08chronic_d    Naive Bayes   0.971125  0.070640  0.080175  0.070640   \n",
      "20  w08chronic_e  Random Forest   0.943428  0.971302  0.957163  0.971302   \n",
      "21  w08chronic_e  Decision Tree   0.943367  0.969095  0.956058  0.969095   \n",
      "22  w08chronic_e            SVM   0.943428  0.971302  0.957163  0.971302   \n",
      "23  w08chronic_e            MLP   0.943428  0.971302  0.957163  0.971302   \n",
      "24  w08chronic_e    Naive Bayes   0.972145  0.050773  0.044805  0.050773   \n",
      "25  w08chronic_f  Random Forest   0.818589  0.860927  0.837262  0.860927   \n",
      "26  w08chronic_f  Decision Tree   0.817508  0.833333  0.825147  0.833333   \n",
      "27  w08chronic_f            SVM   0.799307  0.894040  0.844024  0.894040   \n",
      "28  w08chronic_f            MLP   0.799307  0.894040  0.844024  0.894040   \n",
      "29  w08chronic_f    Naive Bayes   0.547479  0.107064  0.026562  0.107064   \n",
      "30  w08chronic_g  Random Forest   0.894244  0.935982  0.914637  0.935982   \n",
      "31  w08chronic_g  Decision Tree   0.900662  0.900662  0.900662  0.900662   \n",
      "32  w08chronic_g            SVM   0.894757  0.945916  0.919626  0.945916   \n",
      "33  w08chronic_g            MLP   0.894757  0.945916  0.919626  0.945916   \n",
      "34  w08chronic_g    Naive Bayes   0.916530  0.262693  0.355852  0.262693   \n",
      "35  w08chronic_h  Random Forest   0.921483  0.948124  0.928863  0.948124   \n",
      "36  w08chronic_h  Decision Tree   0.912247  0.915011  0.913620  0.915011   \n",
      "37  w08chronic_h            SVM   0.931776  0.950331  0.933516  0.950331   \n",
      "38  w08chronic_h            MLP   0.929862  0.950331  0.930129  0.950331   \n",
      "39  w08chronic_h    Naive Bayes   0.939369  0.124724  0.145827  0.124724   \n",
      "40  w08chronic_i  Random Forest   0.722680  0.741722  0.725939  0.741722   \n",
      "41  w08chronic_i  Decision Tree   0.668318  0.665563  0.666903  0.665563   \n",
      "42  w08chronic_i            SVM   0.738355  0.757174  0.735383  0.757174   \n",
      "43  w08chronic_i            MLP   0.731342  0.750552  0.732165  0.750552   \n",
      "44  w08chronic_i    Naive Bayes   0.743346  0.718543  0.727112  0.718543   \n",
      "45  w08chronic_k  Random Forest   0.971493  0.984547  0.977977  0.984547   \n",
      "46  w08chronic_k  Decision Tree   0.971254  0.967991  0.969620  0.967991   \n",
      "47  w08chronic_k            SVM   0.971508  0.985651  0.978529  0.985651   \n",
      "48  w08chronic_k            MLP   0.971508  0.985651  0.978529  0.985651   \n",
      "49  w08chronic_k    Naive Bayes   0.978349  0.156733  0.250700  0.156733   \n",
      "50  w08chronic_l  Random Forest   0.973671  0.985651  0.979624  0.985651   \n",
      "51  w08chronic_l  Decision Tree   0.976561  0.962472  0.969237  0.962472   \n",
      "52  w08chronic_l            SVM   0.973685  0.986755  0.980177  0.986755   \n",
      "53  w08chronic_l            MLP   0.973685  0.986755  0.980177  0.986755   \n",
      "54  w08chronic_l    Naive Bayes   0.986933  0.026490  0.026490  0.026490   \n",
      "55  w08chronic_m  Random Forest   0.982418  0.991170  0.986775  0.991170   \n",
      "56  w08chronic_m  Decision Tree   0.990078  0.991170  0.990544  0.991170   \n",
      "57  w08chronic_m            SVM   0.982408  0.990066  0.986222  0.990066   \n",
      "58  w08chronic_m            MLP   0.982399  0.988962  0.985670  0.988962   \n",
      "59  w08chronic_m    Naive Bayes   0.985220  0.544150  0.696668  0.544150   \n",
      "\n",
      "    Micro F1  Macro F1  Weighted F1       AUC  \n",
      "0   0.714128  0.712826     0.711973  0.770620  \n",
      "1   0.632450  0.631901     0.632529  0.631977  \n",
      "2   0.727373  0.721182     0.719348  0.758643  \n",
      "3   0.739514  0.737256     0.736180  0.788842  \n",
      "4   0.718543  0.713602     0.711941  0.762404  \n",
      "5   0.737307  0.534514     0.700004  0.638635  \n",
      "6   0.658940  0.543908     0.667283  0.552127  \n",
      "7   0.770419  0.439843     0.671626  0.633487  \n",
      "8   0.753863  0.466370     0.677343  0.697494  \n",
      "9   0.726269  0.593334     0.718570  0.736616  \n",
      "10  0.911700  0.500661     0.887698  0.587545  \n",
      "11  0.863135  0.507125     0.864984  0.508802  \n",
      "12  0.927152  0.481100     0.892105  0.502895  \n",
      "13  0.927152  0.481100     0.892105  0.616730  \n",
      "14  0.077263  0.072921     0.018722  0.616640  \n",
      "15  0.963576  0.490725     0.952202  0.535604  \n",
      "16  0.943709  0.504371     0.943194  0.503919  \n",
      "17  0.970199  0.492437     0.955523  0.510723  \n",
      "18  0.970199  0.492437     0.955523  0.691400  \n",
      "19  0.070640  0.070527     0.080175  0.676821  \n",
      "20  0.971302  0.492721     0.957163  0.600219  \n",
      "21  0.969095  0.492152     0.956058  0.604939  \n",
      "22  0.971302  0.492721     0.957163  0.546503  \n",
      "23  0.971302  0.492721     0.957163  0.593794  \n",
      "24  0.050773  0.050731     0.044805  0.585184  \n",
      "25  0.860927  0.512321     0.837262  0.613649  \n",
      "26  0.833333  0.517519     0.825147  0.566885  \n",
      "27  0.894040  0.472028     0.844024  0.538876  \n",
      "28  0.894040  0.472028     0.844024  0.663940  \n",
      "29  0.107064  0.097964     0.026562  0.656679  \n",
      "30  0.935982  0.483466     0.914637  0.588701  \n",
      "31  0.900662  0.514562     0.900662  0.514562  \n",
      "32  0.945916  0.486103     0.919626  0.644893  \n",
      "33  0.945916  0.486103     0.919626  0.639464  \n",
      "34  0.262693  0.240757     0.355852  0.648997  \n",
      "35  0.948124  0.525871     0.928863  0.625836  \n",
      "36  0.915011  0.535152     0.913620  0.534069  \n",
      "37  0.950331  0.562680     0.933516  0.499755  \n",
      "38  0.950331  0.528054     0.930129  0.690334  \n",
      "39  0.124724  0.124057     0.145827  0.672623  \n",
      "40  0.741722  0.646622     0.725939  0.743502  \n",
      "41  0.665563  0.591862     0.666903  0.592612  \n",
      "42  0.757174  0.653248     0.735383  0.730252  \n",
      "43  0.750552  0.652078     0.732165  0.779082  \n",
      "44  0.718543  0.676976     0.727112  0.733063  \n",
      "45  0.984547  0.496107     0.977977  0.579163  \n",
      "46  0.967991  0.491868     0.969620  0.527651  \n",
      "47  0.985651  0.496387     0.978529  0.541476  \n",
      "48  0.985651  0.496387     0.978529  0.678611  \n",
      "49  0.156733  0.142182     0.250700  0.654406  \n",
      "50  0.985651  0.496387     0.979624  0.793578  \n",
      "51  0.962472  0.543049     0.969237  0.570097  \n",
      "52  0.986755  0.496667     0.980177  0.686428  \n",
      "53  0.986755  0.496667     0.980177  0.782345  \n",
      "54  0.026490  0.026490     0.026490  0.802386  \n",
      "55  0.991170  0.497783     0.986775  0.779997  \n",
      "56  0.991170  0.712061     0.990544  0.685830  \n",
      "57  0.990066  0.497504     0.986222  0.926225  \n",
      "58  0.988962  0.497225     0.985670  0.752366  \n",
      "59  0.544150  0.363152     0.696668  0.654293  \n"
     ]
    }
   ],
   "source": [
    "# 10. 결과 테이블 출력\n",
    "print(\"\\n전체 모델 평가 결과:\")\n",
    "print(result_table)"
   ]
  }
 ],
 "metadata": {
  "kernelspec": {
   "display_name": "base",
   "language": "python",
   "name": "python3"
  },
  "language_info": {
   "codemirror_mode": {
    "name": "ipython",
    "version": 3
   },
   "file_extension": ".py",
   "mimetype": "text/x-python",
   "name": "python",
   "nbconvert_exporter": "python",
   "pygments_lexer": "ipython3",
   "version": "3.9.13"
  }
 },
 "nbformat": 4,
 "nbformat_minor": 2
}
