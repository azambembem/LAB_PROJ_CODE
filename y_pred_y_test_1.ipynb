{
 "cells": [
  {
   "cell_type": "code",
   "execution_count": 95,
   "metadata": {},
   "outputs": [],
   "source": [
    "import pandas as pd\n",
    "import numpy as np\n",
    "import random\n",
    "from sklearn.model_selection import train_test_split\n",
    "from sklearn.preprocessing import StandardScaler, label_binarize\n",
    "from sklearn.ensemble import RandomForestClassifier\n",
    "from sklearn.multioutput import MultiOutputClassifier\n",
    "from sklearn.metrics import accuracy_score, f1_score, roc_auc_score, precision_recall_fscore_support"
   ]
  },
  {
   "cell_type": "code",
   "execution_count": 96,
   "metadata": {},
   "outputs": [],
   "source": [
    "# 1. 데이터 불러오기\n",
    "data = pd.read_csv('azdigar nav sartirovka+0 delete.csv')"
   ]
  },
  {
   "cell_type": "code",
   "execution_count": 97,
   "metadata": {},
   "outputs": [],
   "source": [
    "# 분석할 열들\n",
    "columns = [\n",
    "    'w08chronic_a', 'w08chronic_b', 'w08chronic_c',\n",
    "    'w08chronic_d', 'w08chronic_e', 'w08chronic_f',\n",
    "    'w08chronic_g', 'w08chronic_h', 'w08chronic_i',\n",
    "    'w08chronic_k', 'w08chronic_l', 'w08chronic_m'\n",
    "] "
   ]
  },
  {
   "cell_type": "code",
   "execution_count": 98,
   "metadata": {},
   "outputs": [],
   "source": [
    "# 2. 데이터 클리닝 - 'w08chronic_m'에서 값이 3인 행 제거\n",
    "cleaned_data = data[data['w08chronic_m'] != 3] \n"
   ]
  },
  {
   "cell_type": "code",
   "execution_count": 99,
   "metadata": {},
   "outputs": [],
   "source": [
    "# # 3. 피처와 타겟 정의\n",
    "# X = cleaned_data.drop(columns=columns)\n",
    "# y = cleaned_data[columns].values\n",
    "# 3. 피처 데이터와 타겟 데이터 정의\n",
    "X = cleaned_data.drop(columns=columns)\n",
    "y_all = cleaned_data[columns]"
   ]
  },
  {
   "cell_type": "code",
   "execution_count": 100,
   "metadata": {},
   "outputs": [],
   "source": [
    "\n",
    "# 4. 데이터 스케일링\n",
    "scaler = StandardScaler()\n",
    "X_scaled = scaler.fit_transform(X)"
   ]
  },
  {
   "cell_type": "code",
   "execution_count": 94,
   "metadata": {},
   "outputs": [],
   "source": [
    "# 멀티라벨을 멀티-핫 인코딩으로 변환\n",
    "mlb = MultiLabelBinarizer()\n",
    "y_binarized = mlb.fit_transform(y)"
   ]
  },
  {
   "cell_type": "code",
   "execution_count": 105,
   "metadata": {},
   "outputs": [],
   "source": [
    "# 5. 유전 알고리즘 파라미터 설정\n",
    "population_size = 10  # 개체군 크기\n",
    "num_generations = 10  # 세대 수\n",
    "mutation_rate = 0.05  # 돌연변이 확률\n",
    "\n",
    "# 초기 개체군 생성\n",
    "def initialize_population():\n",
    "    return [np.random.randint(2, size=X_scaled.shape[1]).tolist() for _ in range(population_size)]\n",
    "\n",
    "# 적합도 평가 함수\n",
    "def fitness_function(individual, model, X_train, y_train, X_test, y_test):\n",
    "    selected_features = [i for i, bit in enumerate(individual) if bit]\n",
    "    if len(selected_features) == 0:\n",
    "        return 0  # 피처가 선택되지 않으면 적합도는 0\n",
    "    \n",
    "    X_train_selected = X_train[:, selected_features]\n",
    "    X_test_selected = X_test[:, selected_features]\n",
    "    \n",
    "    try:\n",
    "        model.fit(X_train_selected, y_train)\n",
    "        y_pred = model.predict(X_test_selected)\n",
    "\n",
    "        # 타겟 클래스가 두 개 이상이면 AUC 계산을 위해 타겟을 이진화 (One-vs-Rest 방식)\n",
    "        y_test_bin = label_binarize(y_test, classes=np.unique(y_train))\n",
    "        if y_test_bin.shape[1] == 1:  # 클래스가 하나인 경우\n",
    "            y_test_bin = np.concatenate([1 - y_test_bin, y_test_bin], axis=1)\n",
    "        \n",
    "        f1 = f1_score(y_test, y_pred, average='macro')\n",
    "        return f1  # 적합도는 F1 점수로 설정\n",
    "    except Exception as e:\n",
    "        print(f\"적합도 평가 중 오류 발생: {e}\")\n",
    "        return 0\n",
    "\n",
    "# 개체군 선택 함수\n",
    "def selection(population, model, X_train, y_train, X_test, y_test):\n",
    "    scores = [fitness_function(ind, model, X_train, y_train, X_test, y_test) for ind in population]\n",
    "    selected_indices = np.argsort(scores)[-population_size // 2:]\n",
    "    return [population[i] for i in selected_indices]\n",
    "\n",
    "# 교차 함수\n",
    "def crossover(parent1, parent2):\n",
    "    crossover_point = random.randint(1, len(parent1) - 1)\n",
    "    child1 = parent1[:crossover_point] + parent2[crossover_point:]\n",
    "    child2 = parent2[:crossover_point] + parent1[crossover_point:]\n",
    "    return child1, child2\n",
    "\n",
    "# 돌연변이 함수\n",
    "def mutate(individual):\n",
    "    for i in range(len(individual)):\n",
    "        if random.random() < mutation_rate:\n",
    "            individual[i] = 1 - individual[i]  # 비트 반전\n",
    "    return individual\n",
    "\n",
    "# 유전 알고리즘 실행 함수\n",
    "def run_genetic_algorithm(model, X_train, y_train, X_test, y_test):\n",
    "    population = initialize_population()\n",
    "    best_individual = None\n",
    "    best_f1 = -1\n",
    "\n",
    "    for generation in range(num_generations):\n",
    "        print(f\"Generation {generation + 1}/{num_generations}\")\n",
    "        selected_population = selection(population, model, X_train, y_train, X_test, y_test)\n",
    "        \n",
    "        children = []\n",
    "        while len(children) < population_size - len(selected_population):\n",
    "            parent1, parent2 = random.sample(selected_population, 2)\n",
    "            child1, child2 = crossover(parent1, parent2)\n",
    "            child1 = mutate(child1)\n",
    "            child2 = mutate(child2)\n",
    "            children.extend([child1, child2])\n",
    "        \n",
    "        population = selected_population + children[:population_size - len(selected_population)]\n",
    "        \n",
    "        for ind in population:\n",
    "            current_f1 = fitness_function(ind, model, X_train, y_train, X_test, y_test)\n",
    "            if current_f1 > best_f1:\n",
    "                best_f1 = current_f1\n",
    "                best_individual = ind\n",
    "\n",
    "    return best_individual"
   ]
  },
  {
   "cell_type": "code",
   "execution_count": 106,
   "metadata": {},
   "outputs": [
    {
     "name": "stdout",
     "output_type": "stream",
     "text": [
      "\n",
      "[w08chronic_a] 열을 예측:\n",
      "==================================\n",
      "Generation 1/10\n",
      "Generation 2/10\n",
      "Generation 3/10\n",
      "Generation 4/10\n",
      "Generation 5/10\n",
      "Generation 6/10\n",
      "Generation 7/10\n",
      "Generation 8/10\n",
      "Generation 9/10\n",
      "Generation 10/10\n",
      "\n",
      "[w08chronic_b] 열을 예측:\n",
      "==================================\n",
      "Generation 1/10\n",
      "Generation 2/10\n",
      "Generation 3/10\n",
      "Generation 4/10\n",
      "Generation 5/10\n",
      "Generation 6/10\n",
      "Generation 7/10\n",
      "Generation 8/10\n",
      "Generation 9/10\n",
      "Generation 10/10\n",
      "\n",
      "[w08chronic_c] 열을 예측:\n",
      "==================================\n",
      "Generation 1/10\n",
      "Generation 2/10\n",
      "Generation 3/10\n",
      "Generation 4/10\n",
      "Generation 5/10\n",
      "Generation 6/10\n",
      "Generation 7/10\n",
      "Generation 8/10\n",
      "Generation 9/10\n",
      "Generation 10/10\n"
     ]
    },
    {
     "name": "stderr",
     "output_type": "stream",
     "text": [
      "c:\\Users\\azamj\\anaconda3\\lib\\site-packages\\sklearn\\metrics\\_classification.py:1509: UndefinedMetricWarning: Precision is ill-defined and being set to 0.0 in labels with no predicted samples. Use `zero_division` parameter to control this behavior.\n",
      "  _warn_prf(average, modifier, f\"{metric.capitalize()} is\", len(result))\n"
     ]
    },
    {
     "name": "stdout",
     "output_type": "stream",
     "text": [
      "\n",
      "[w08chronic_d] 열을 예측:\n",
      "==================================\n",
      "Generation 1/10\n",
      "Generation 2/10\n",
      "Generation 3/10\n",
      "Generation 4/10\n",
      "Generation 5/10\n",
      "Generation 6/10\n",
      "Generation 7/10\n",
      "Generation 8/10\n",
      "Generation 9/10\n",
      "Generation 10/10\n"
     ]
    },
    {
     "name": "stderr",
     "output_type": "stream",
     "text": [
      "c:\\Users\\azamj\\anaconda3\\lib\\site-packages\\sklearn\\metrics\\_classification.py:1509: UndefinedMetricWarning: Precision is ill-defined and being set to 0.0 in labels with no predicted samples. Use `zero_division` parameter to control this behavior.\n",
      "  _warn_prf(average, modifier, f\"{metric.capitalize()} is\", len(result))\n"
     ]
    },
    {
     "name": "stdout",
     "output_type": "stream",
     "text": [
      "\n",
      "[w08chronic_e] 열을 예측:\n",
      "==================================\n",
      "Generation 1/10\n",
      "Generation 2/10\n",
      "Generation 3/10\n",
      "Generation 4/10\n",
      "Generation 5/10\n",
      "Generation 6/10\n",
      "Generation 7/10\n",
      "Generation 8/10\n",
      "Generation 9/10\n",
      "Generation 10/10\n"
     ]
    },
    {
     "name": "stderr",
     "output_type": "stream",
     "text": [
      "c:\\Users\\azamj\\anaconda3\\lib\\site-packages\\sklearn\\metrics\\_classification.py:1509: UndefinedMetricWarning: Precision is ill-defined and being set to 0.0 in labels with no predicted samples. Use `zero_division` parameter to control this behavior.\n",
      "  _warn_prf(average, modifier, f\"{metric.capitalize()} is\", len(result))\n"
     ]
    },
    {
     "name": "stdout",
     "output_type": "stream",
     "text": [
      "\n",
      "[w08chronic_f] 열을 예측:\n",
      "==================================\n",
      "Generation 1/10\n",
      "Generation 2/10\n",
      "Generation 3/10\n",
      "Generation 4/10\n",
      "Generation 5/10\n",
      "Generation 6/10\n",
      "Generation 7/10\n",
      "Generation 8/10\n",
      "Generation 9/10\n",
      "Generation 10/10\n"
     ]
    },
    {
     "name": "stderr",
     "output_type": "stream",
     "text": [
      "c:\\Users\\azamj\\anaconda3\\lib\\site-packages\\sklearn\\metrics\\_classification.py:1509: UndefinedMetricWarning: Precision is ill-defined and being set to 0.0 in labels with no predicted samples. Use `zero_division` parameter to control this behavior.\n",
      "  _warn_prf(average, modifier, f\"{metric.capitalize()} is\", len(result))\n"
     ]
    },
    {
     "name": "stdout",
     "output_type": "stream",
     "text": [
      "\n",
      "[w08chronic_g] 열을 예측:\n",
      "==================================\n",
      "Generation 1/10\n",
      "Generation 2/10\n",
      "Generation 3/10\n",
      "Generation 4/10\n",
      "Generation 5/10\n",
      "Generation 6/10\n",
      "Generation 7/10\n",
      "Generation 8/10\n",
      "Generation 9/10\n",
      "Generation 10/10\n",
      "\n",
      "[w08chronic_h] 열을 예측:\n",
      "==================================\n",
      "Generation 1/10\n",
      "Generation 2/10\n",
      "Generation 3/10\n",
      "Generation 4/10\n",
      "Generation 5/10\n",
      "Generation 6/10\n",
      "Generation 7/10\n",
      "Generation 8/10\n",
      "Generation 9/10\n",
      "Generation 10/10\n",
      "\n",
      "[w08chronic_i] 열을 예측:\n",
      "==================================\n",
      "Generation 1/10\n",
      "Generation 2/10\n",
      "Generation 3/10\n",
      "Generation 4/10\n",
      "Generation 5/10\n",
      "Generation 6/10\n",
      "Generation 7/10\n",
      "Generation 8/10\n",
      "Generation 9/10\n",
      "Generation 10/10\n",
      "\n",
      "[w08chronic_k] 열을 예측:\n",
      "==================================\n",
      "Generation 1/10\n",
      "Generation 2/10\n",
      "Generation 3/10\n",
      "Generation 4/10\n",
      "Generation 5/10\n",
      "Generation 6/10\n",
      "Generation 7/10\n",
      "Generation 8/10\n",
      "Generation 9/10\n",
      "Generation 10/10\n"
     ]
    },
    {
     "name": "stderr",
     "output_type": "stream",
     "text": [
      "c:\\Users\\azamj\\anaconda3\\lib\\site-packages\\sklearn\\metrics\\_classification.py:1509: UndefinedMetricWarning: Precision is ill-defined and being set to 0.0 in labels with no predicted samples. Use `zero_division` parameter to control this behavior.\n",
      "  _warn_prf(average, modifier, f\"{metric.capitalize()} is\", len(result))\n"
     ]
    },
    {
     "name": "stdout",
     "output_type": "stream",
     "text": [
      "\n",
      "[w08chronic_l] 열을 예측:\n",
      "==================================\n",
      "Generation 1/10\n",
      "Generation 2/10\n",
      "Generation 3/10\n",
      "Generation 4/10\n",
      "Generation 5/10\n",
      "Generation 6/10\n",
      "Generation 7/10\n",
      "Generation 8/10\n",
      "Generation 9/10\n",
      "Generation 10/10\n"
     ]
    },
    {
     "name": "stderr",
     "output_type": "stream",
     "text": [
      "c:\\Users\\azamj\\anaconda3\\lib\\site-packages\\sklearn\\metrics\\_classification.py:1509: UndefinedMetricWarning: Precision is ill-defined and being set to 0.0 in labels with no predicted samples. Use `zero_division` parameter to control this behavior.\n",
      "  _warn_prf(average, modifier, f\"{metric.capitalize()} is\", len(result))\n"
     ]
    },
    {
     "name": "stdout",
     "output_type": "stream",
     "text": [
      "\n",
      "[w08chronic_m] 열을 예측:\n",
      "==================================\n",
      "Generation 1/10\n",
      "Generation 2/10\n",
      "Generation 3/10\n",
      "Generation 4/10\n",
      "Generation 5/10\n",
      "Generation 6/10\n",
      "Generation 7/10\n",
      "Generation 8/10\n",
      "Generation 9/10\n",
      "Generation 10/10\n"
     ]
    },
    {
     "name": "stderr",
     "output_type": "stream",
     "text": [
      "c:\\Users\\azamj\\anaconda3\\lib\\site-packages\\sklearn\\metrics\\_classification.py:1509: UndefinedMetricWarning: Precision is ill-defined and being set to 0.0 in labels with no predicted samples. Use `zero_division` parameter to control this behavior.\n",
      "  _warn_prf(average, modifier, f\"{metric.capitalize()} is\", len(result))\n"
     ]
    }
   ],
   "source": [
    "# 6. 결과 저장을 위한 빈 데이터프레임 생성\n",
    "result_table = pd.DataFrame(columns=[\n",
    "    'Target', 'Model', 'Precision', 'Recall', 'F1-Score', \n",
    "    'Accuracy', 'Micro F1', 'Macro F1', 'Weighted F1', 'AUC'\n",
    "])\n",
    "\n",
    "# 7. 각 타겟 열을 사용한 학습 및 평가\n",
    "for target_column in columns:\n",
    "    print(f'\\n[{target_column}] 열을 예측:')\n",
    "    print('==================================')\n",
    "\n",
    "    y = cleaned_data[target_column].values\n",
    "    y_binarized = label_binarize(y, classes=np.unique(y))  # 타겟 이진화\n",
    "\n",
    "    # 데이터 나누기\n",
    "    X_train, X_test, y_train, y_test = train_test_split(X_scaled, y_binarized, test_size=0.2, random_state=42)\n",
    "\n",
    "    # 모델 정의\n",
    "    rf = RandomForestClassifier(n_estimators=100, random_state=42)\n",
    "    multi_target_rf = MultiOutputClassifier(rf, n_jobs=-1)\n",
    "\n",
    "    # 유전 알고리즘을 사용한 피처 선택\n",
    "    best_individual = run_genetic_algorithm(multi_target_rf, X_train, y_train, X_test, y_test)\n",
    "    selected_features = [i for i, bit in enumerate(best_individual) if bit]\n",
    "\n",
    "    if len(selected_features) == 0:\n",
    "        print(f'선택된 피처가 없습니다. {target_column} 열에 대한 모델 평가를 건너뜁니다.')\n",
    "        continue\n",
    "\n",
    "    # 선택된 피처만 사용\n",
    "    X_train_selected = X_train[:, selected_features]\n",
    "    X_test_selected = X_test[:, selected_features]\n",
    "\n",
    "    # 모델 학습\n",
    "    multi_target_rf.fit(X_train_selected, y_train)\n",
    "\n",
    "    # 예측\n",
    "    y_pred = multi_target_rf.predict(X_test_selected)\n",
    "\n",
    "    # 평가\n",
    "    accuracy = accuracy_score(y_test, y_pred)\n",
    "    precision, recall, f1, _ = precision_recall_fscore_support(y_test, y_pred, average='weighted')\n",
    "    micro_f1 = f1_score(y_test, y_pred, average='micro')\n",
    "    macro_f1 = f1_score(y_test, y_pred, average='macro')\n",
    "    weighted_f1 = f1_score(y_test, y_pred, average='weighted')\n",
    "\n",
    "    # AUC 계산\n",
    "    try:\n",
    "        auc = roc_auc_score(y_test, multi_target_rf.predict_proba(X_test_selected), multi_class=\"ovr\", average='weighted')\n",
    "    except ValueError:\n",
    "        auc = np.nan\n",
    "\n",
    "    # 결과 저장\n",
    "    new_row = pd.DataFrame({\n",
    "        'Model': ['Random Forest'],\n",
    "        'Target': [target_column],\n",
    "        'Precision': [precision],\n",
    "        'Recall': [recall],\n",
    "        'F1-Score': [f1],\n",
    "        'Accuracy': [accuracy],\n",
    "        'Micro F1': [micro_f1],\n",
    "        'Macro F1': [macro_f1],\n",
    "        'Weighted F1': [weighted_f1],\n",
    "        'AUC': [auc]\n",
    "    })\n",
    "    result_table = pd.concat([result_table, new_row], ignore_index=True)\n"
   ]
  },
  {
   "cell_type": "code",
   "execution_count": 107,
   "metadata": {},
   "outputs": [
    {
     "name": "stdout",
     "output_type": "stream",
     "text": [
      "\n",
      "전체 모델 평가 결과:\n",
      "          Target          Model  Precision    Recall  F1-Score  Accuracy  \\\n",
      "0   w08chronic_a  Random Forest   0.770030  0.750552  0.747971  0.750552   \n",
      "1   w08chronic_b  Random Forest   0.718131  0.770419  0.688530  0.770419   \n",
      "2   w08chronic_c  Random Forest   0.859611  0.927152  0.892105  0.927152   \n",
      "3   w08chronic_d  Random Forest   0.941285  0.970199  0.955523  0.970199   \n",
      "4   w08chronic_e  Random Forest   0.943428  0.971302  0.957163  0.971302   \n",
      "5   w08chronic_f  Random Forest   0.799307  0.894040  0.844024  0.894040   \n",
      "6   w08chronic_g  Random Forest   0.950821  0.948124  0.924912  0.948124   \n",
      "7   w08chronic_h  Random Forest   0.953796  0.951435  0.928813  0.951435   \n",
      "8   w08chronic_i  Random Forest   0.766877  0.779249  0.757820  0.779249   \n",
      "9   w08chronic_k  Random Forest   0.971508  0.985651  0.978529  0.985651   \n",
      "10  w08chronic_l  Random Forest   0.973685  0.986755  0.980177  0.986755   \n",
      "11  w08chronic_m  Random Forest   0.982418  0.991170  0.986775  0.991170   \n",
      "\n",
      "    Micro F1  Macro F1  Weighted F1  AUC  \n",
      "0   0.750552  0.748877     0.747971  NaN  \n",
      "1   0.770419  0.478203     0.688530  NaN  \n",
      "2   0.927152  0.481100     0.892105  NaN  \n",
      "3   0.970199  0.492437     0.955523  NaN  \n",
      "4   0.971302  0.492721     0.957163  NaN  \n",
      "5   0.894040  0.472028     0.844024  NaN  \n",
      "6   0.948124  0.525871     0.924912  NaN  \n",
      "7   0.951435  0.509282     0.928813  NaN  \n",
      "8   0.779249  0.681453     0.757820  NaN  \n",
      "9   0.985651  0.496387     0.978529  NaN  \n",
      "10  0.986755  0.496667     0.980177  NaN  \n",
      "11  0.991170  0.497783     0.986775  NaN  \n"
     ]
    }
   ],
   "source": [
    "# 8. 결과 테이블 출력\n",
    "print(\"\\n전체 모델 평가 결과:\")\n",
    "print(result_table)"
   ]
  }
 ],
 "metadata": {
  "kernelspec": {
   "display_name": "base",
   "language": "python",
   "name": "python3"
  },
  "language_info": {
   "codemirror_mode": {
    "name": "ipython",
    "version": 3
   },
   "file_extension": ".py",
   "mimetype": "text/x-python",
   "name": "python",
   "nbconvert_exporter": "python",
   "pygments_lexer": "ipython3",
   "version": "3.9.13"
  }
 },
 "nbformat": 4,
 "nbformat_minor": 2
}
